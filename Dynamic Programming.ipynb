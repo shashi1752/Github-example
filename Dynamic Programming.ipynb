{
 "cells": [
  {
   "cell_type": "code",
   "execution_count": 1,
   "metadata": {},
   "outputs": [
    {
     "data": {
      "text/plain": [
       "102334155"
      ]
     },
     "execution_count": 1,
     "metadata": {},
     "output_type": "execute_result"
    }
   ],
   "source": [
    "#code with recursion\n",
    "def fibo2(n):\n",
    "    if n==1:\n",
    "        return 1\n",
    "    elif n==0:\n",
    "        return 0\n",
    "    else:\n",
    "        return fibo2(n-1)+fibo2(n-2)\n",
    "    \n",
    "fibo2(40)"
   ]
  },
  {
   "cell_type": "code",
   "execution_count": 2,
   "metadata": {},
   "outputs": [
    {
     "data": {
      "text/plain": [
       "102334155"
      ]
     },
     "execution_count": 2,
     "metadata": {},
     "output_type": "execute_result"
    }
   ],
   "source": [
    "#code with memoirization\n",
    "maxm=50\n",
    "lookup=[None]*maxm\n",
    "def fibon(n):\n",
    "    if lookup[n]==None:\n",
    "        if n<=1:\n",
    "            lookup[n]=n\n",
    "            return lookup[n]\n",
    "        else:\n",
    "            lookup[n]=fibon(n-1) + fibon(n-2)\n",
    "            return lookup[n]\n",
    "    else:\n",
    "        return lookup[n]\n",
    "fibon(40)"
   ]
  },
  {
   "cell_type": "code",
   "execution_count": 5,
   "metadata": {},
   "outputs": [
    {
     "data": {
      "text/plain": [
       "102334155"
      ]
     },
     "execution_count": 5,
     "metadata": {},
     "output_type": "execute_result"
    }
   ],
   "source": [
    "#Fibonacci series[0,1,1,2,3,5,8,13,21,34,...] also called tabulation method\n",
    "def fibo(num):\n",
    "    fib=[0]*(num+1)\n",
    "    fib[1]=1\n",
    "    for i in range(2, num+1):\n",
    "        fib[i]=fib[i-1]+fib[i-2]\n",
    "    return fib[num]\n",
    "\n",
    "fibo(40)"
   ]
  },
  {
   "cell_type": "code",
   "execution_count": 78,
   "metadata": {},
   "outputs": [
    {
     "data": {
      "text/plain": [
       "[1, 2, 1, 3, 2, 4, 4, 5]"
      ]
     },
     "execution_count": 78,
     "metadata": {},
     "output_type": "execute_result"
    }
   ],
   "source": [
    "#Longest Increasing Subsequence\n",
    "arr=[10,22,9,33,21,50,41,60]\n",
    "count=[1]*len(arr)\n",
    "for i in range(1,len(arr)):\n",
    "    j=0\n",
    "    while(j<i):\n",
    "        if arr[i]>arr[j]:\n",
    "            count[i]=max(count[i],count[j]+1)\n",
    "        j+=1\n",
    "max(count)\n",
    "count           "
   ]
  },
  {
   "cell_type": "code",
   "execution_count": 4,
   "metadata": {},
   "outputs": [
    {
     "data": {
      "text/plain": [
       "4"
      ]
     },
     "execution_count": 4,
     "metadata": {},
     "output_type": "execute_result"
    }
   ],
   "source": [
    "#longest common sequence using recursion\n",
    "def lcs(string1,string2,m,n):\n",
    "    if m==0 or n==0:\n",
    "        return 0\n",
    "    elif string1[m-1]==string2[n-1]:\n",
    "        return 1+lcs(string1,string2, m-1,n-1)\n",
    "    else:\n",
    "        return max(lcs(string1,string2,m,n-1),lcs(string1,string2, m-1, n))\n",
    "X = \"AGGTAB\"\n",
    "Y = \"GXTXAYB\"\n",
    "lcs(X,Y, len(X),len(Y))\n",
    "    "
   ]
  },
  {
   "cell_type": "code",
   "execution_count": 18,
   "metadata": {},
   "outputs": [
    {
     "name": "stdout",
     "output_type": "stream",
     "text": [
      "GTAB\n"
     ]
    },
    {
     "data": {
      "text/plain": [
       "4"
      ]
     },
     "execution_count": 18,
     "metadata": {},
     "output_type": "execute_result"
    }
   ],
   "source": [
    "#longest common sequence using memoirization\n",
    "def lcs(X , Y):\n",
    "    # find the length of the strings\n",
    "    m = len(X)\n",
    "    n = len(Y)\n",
    "  \n",
    "    # declaring the array for storing the dp values\n",
    "    L = [[None]*(n+1) for i in range(m+1)]\n",
    "  \n",
    "    \"\"\"Following steps build L[m+1][n+1] in bottom up fashion\n",
    "    Note: L[i][j] contains length of LCS of X[0..i-1]\n",
    "    and Y[0..j-1]\"\"\"\n",
    "    for i in range(m+1):\n",
    "        for j in range(n+1):\n",
    "            if i == 0 or j == 0 :\n",
    "                L[i][j] = 0\n",
    "            elif X[i-1] == Y[j-1]:\n",
    "                L[i][j] = L[i-1][j-1]+1\n",
    "            else:\n",
    "                L[i][j] = max(L[i-1][j] , L[i][j-1])\n",
    "    print(backtrack(L,X,Y,m,n))\n",
    "    # L[m][n] contains the length of LCS of X[0..n-1] & Y[0..m-1]\n",
    "    return L[m][n]\n",
    "\n",
    "\n",
    "def backtrack(L, X, Y, i, j):\n",
    "    if i == 0 or j ==0:\n",
    "        return \"\"\n",
    "    if  X[i-1] == Y[j-1]:\n",
    "        return backtrack(L, X, Y, i-1, j-1) + X[i-1]\n",
    "    if L[i][j-1] > L[i-1][j]:\n",
    "        return backtrack(L, X, Y, i, j-1)\n",
    "    else:\n",
    "        return backtrack(L, X, Y, i-1, j)\n",
    "\n",
    "X = \"AGGTAB\"\n",
    "Y = \"GXTXAYB\"\n",
    "lcs(X,Y)\n"
   ]
  },
  {
   "cell_type": "code",
   "execution_count": 6,
   "metadata": {},
   "outputs": [
    {
     "data": {
      "text/plain": [
       "3"
      ]
     },
     "execution_count": 6,
     "metadata": {},
     "output_type": "execute_result"
    }
   ],
   "source": [
    "#edit distance problem using recursion.\n",
    "def editdist(astr,bstr,m,n):\n",
    "    if m==0:\n",
    "        return n\n",
    "    elif n==0:\n",
    "        return m\n",
    "    elif astr[m-1]==bstr[n-1]:\n",
    "        return editdist(astr,bstr,m-1,n-1)\n",
    "    else:\n",
    "        return 1+ min(editdist(astr,bstr,m-1,n),editdist(astr,bstr,m,n-1),editdist(astr,bstr,m-1,n-1))\n",
    "x='cart'\n",
    "y='march'\n",
    "m=len(x)\n",
    "n=len(y)\n",
    "editdist(x,y,m,n)    "
   ]
  },
  {
   "cell_type": "code",
   "execution_count": 4,
   "metadata": {},
   "outputs": [
    {
     "data": {
      "text/plain": [
       "3"
      ]
     },
     "execution_count": 4,
     "metadata": {},
     "output_type": "execute_result"
    }
   ],
   "source": [
    "#edit distance problem using dynamic method.\n",
    "def editdistance(astr,bstr,m,n):\n",
    "    dp=[[0]*(n+1) for i in range(m+1)]\n",
    "    for i in range(m+1):\n",
    "        for j in range(n+1):\n",
    "            if i==0:\n",
    "                dp[i][j]=j\n",
    "            elif j==0:\n",
    "                dp[i][j]=i\n",
    "            elif astr[i-1]==bstr[j-1]:\n",
    "                dp[i][j]=dp[i-1][j-1]\n",
    "            else:\n",
    "                dp[i][j]=1+ min(dp[i-1][j],dp[i][j-1], dp[i-1][j-1])\n",
    "    return dp[m][n]\n",
    "editdistance(x,y,m,n)"
   ]
  },
  {
   "cell_type": "code",
   "execution_count": 5,
   "metadata": {},
   "outputs": [
    {
     "data": {
      "text/plain": [
       "5"
      ]
     },
     "execution_count": 5,
     "metadata": {},
     "output_type": "execute_result"
    }
   ],
   "source": [
    "#longest palindromic sequence using recursion.\n",
    "def lps(string,i,j):\n",
    "    if i==j:\n",
    "        return 1\n",
    "    elif string[i]==string[j] and i+1==j:\n",
    "        return 2\n",
    "    elif string[i]==string[j]:\n",
    "        return lps(string,i+1,j-1)+2\n",
    "    else:\n",
    "        return max(lps(string,i,j-1),lps(string,i+1,j))\n",
    "seq='GEEKSFORGEEKS'    \n",
    "lps(seq,0,len(seq)-1)"
   ]
  },
  {
   "cell_type": "code",
   "execution_count": 15,
   "metadata": {},
   "outputs": [
    {
     "data": {
      "text/plain": [
       "'qwerttrewq'"
      ]
     },
     "execution_count": 15,
     "metadata": {},
     "output_type": "execute_result"
    }
   ],
   "source": [
    "#return maximum palindromic sequence in the string.\n",
    "def palindrome(string):\n",
    "    return string==string[::-1]\n",
    "\n",
    "def longpalin(string):\n",
    "    maxpal=\"\"\n",
    "    max=0\n",
    "    for i in range(len(string)+1):\n",
    "        for j in range(i+1,len(string)+1):\n",
    "            substr=string[i:j]\n",
    "            if palindrome(substr) and len(substr)>max:\n",
    "                max=len(substr)\n",
    "                maxpal=substr\n",
    "    return maxpal\n",
    "longpalin('emadamdkaslqwerttrewq')\n"
   ]
  },
  {
   "cell_type": "code",
   "execution_count": 23,
   "metadata": {},
   "outputs": [
    {
     "name": "stdout",
     "output_type": "stream",
     "text": [
      "EEKEE\n"
     ]
    }
   ],
   "source": [
    "#return longest palindromic subsequence from a string.\n",
    "\n",
    "def logpal(string):\n",
    "    rev=string[::-1]\n",
    "    lcs(string,rev)\n",
    "\n",
    "logpal('GEEKSFORGEEKS')"
   ]
  },
  {
   "cell_type": "code",
   "execution_count": 30,
   "metadata": {},
   "outputs": [
    {
     "name": "stdout",
     "output_type": "stream",
     "text": [
      "7\n"
     ]
    },
    {
     "data": {
      "text/plain": [
       "'EEKRKEE'"
      ]
     },
     "execution_count": 30,
     "metadata": {},
     "output_type": "execute_result"
    }
   ],
   "source": [
    "\n",
    "def backtrace(dp, astr,bstr,i,j):\n",
    "    if i==0 or j==0:\n",
    "        return \"\"\n",
    "    elif astr[i-1]==bstr[j-1]:\n",
    "        return backtrace(dp,astr,bstr,i-1,j-1) + astr[i-1]\n",
    "    elif dp[i-1][j]>dp[i][j-1]:\n",
    "        return backtrace(dp,astr,bstr,i-1,j)\n",
    "    else:\n",
    "        return backtrace(dp,astr,bstr,i,j-1)\n",
    "def lcs(astr,bstr):\n",
    "    m=len(astr)\n",
    "    n=len(bstr)\n",
    "    dp=[[None]*(n+1) for i in range(m+1)]\n",
    "    for i in range(m+1):\n",
    "        for j in range(n+1):\n",
    "            if i==0 or j==0:\n",
    "                dp[i][j]=0\n",
    "            elif astr[i-1]==bstr[j-1]:\n",
    "                dp[i][j]=1+dp[i-1][j-1]\n",
    "            else:\n",
    "                dp[i][j]=max(dp[i-1][j],dp[i][j-1])\n",
    "    print(dp[m][n])\n",
    "    return backtrace(dp,astr,bstr,m,n)\n",
    "    \n",
    "string='GEEKSFORGEEKS'\n",
    "rev=string[::-1]\n",
    "lcs(string,rev)"
   ]
  },
  {
   "cell_type": "code",
   "execution_count": 14,
   "metadata": {},
   "outputs": [
    {
     "name": "stdout",
     "output_type": "stream",
     "text": [
      "Length of LBS is 7\n"
     ]
    }
   ],
   "source": [
    "#Longest Bitonic Subsequence\n",
    "def lbs(arr):\n",
    "    n=len(arr)\n",
    "    \n",
    "    lis=[1]*(n+1)\n",
    "    \n",
    "    for i in range(1,len(arr)):\n",
    "        for j in range(0,i+1):\n",
    "            if arr[i]>arr[j]:\n",
    "                lis[i]=max(lis[i],lis[j]+1)\n",
    "                \n",
    "    lds=[1]*(n+1)\n",
    "    for i in reversed(range(n-1)):\n",
    "        for j in reversed(range(i-1,n)):\n",
    "            if arr[i]>arr[j]:\n",
    "                lds[i]=max(lds[i],lds[j]+1)\n",
    "    \n",
    "    maximum = lis[0] + lds[0] - 1\n",
    "    for i in range(1 , n):\n",
    "        maximum = max((lis[i] + lds[i]-1), maximum)\n",
    "     \n",
    "    return maximum\n",
    "\n",
    "arr =  [0 , 8 , 4, 12, 2, 10 , 6 , 14 , 1 , 9 , 5 , 13,\n",
    "        3, 11 , 7 , 15]\n",
    "print( \"Length of LBS is\",lbs(arr))"
   ]
  },
  {
   "cell_type": "code",
   "execution_count": 19,
   "metadata": {},
   "outputs": [
    {
     "data": {
      "text/plain": [
       "6"
      ]
     },
     "execution_count": 19,
     "metadata": {},
     "output_type": "execute_result"
    }
   ],
   "source": [
    "#GCD of two numbers\n",
    "\n",
    "def gcd(a,b):\n",
    "    \n",
    "    if a==0:\n",
    "        return b\n",
    "    if b==0:\n",
    "        return a\n",
    "    if a>b:\n",
    "        return gcd(a-b,b)\n",
    "    return gcd(a,b-a)\n",
    "\n",
    "gcd(24,30)"
   ]
  },
  {
   "cell_type": "code",
   "execution_count": 22,
   "metadata": {},
   "outputs": [
    {
     "data": {
      "text/plain": [
       "1"
      ]
     },
     "execution_count": 22,
     "metadata": {},
     "output_type": "execute_result"
    }
   ],
   "source": [
    "def GCD(a,b):\n",
    "    if b==0:\n",
    "        return a\n",
    "    else:\n",
    "        return GCD(b,a%b)\n",
    "    \n",
    "GCD(2,3)"
   ]
  },
  {
   "cell_type": "code",
   "execution_count": 42,
   "metadata": {},
   "outputs": [
    {
     "data": {
      "text/plain": [
       "[2, 5, 5]"
      ]
     },
     "execution_count": 42,
     "metadata": {},
     "output_type": "execute_result"
    }
   ],
   "source": [
    "def primefactor(num):\n",
    "    prime=[]\n",
    "    for i in range(2,num//2+1):\n",
    "        while(num%i==0):\n",
    "            prime.append(i)\n",
    "            num=num//i\n",
    "    return prime\n",
    "primefactor(50)\n",
    "                "
   ]
  },
  {
   "cell_type": "code",
   "execution_count": 48,
   "metadata": {},
   "outputs": [
    {
     "data": {
      "text/plain": [
       "[5, 7, 11, 13]"
      ]
     },
     "execution_count": 48,
     "metadata": {},
     "output_type": "execute_result"
    }
   ],
   "source": [
    "primefactor(5005)"
   ]
  },
  {
   "cell_type": "code",
   "execution_count": 49,
   "metadata": {},
   "outputs": [
    {
     "data": {
      "text/plain": [
       "[3, 3, 5, 5, 17]"
      ]
     },
     "execution_count": 49,
     "metadata": {},
     "output_type": "execute_result"
    }
   ],
   "source": [
    "primefactor(3825)"
   ]
  },
  {
   "cell_type": "code",
   "execution_count": 50,
   "metadata": {},
   "outputs": [
    {
     "data": {
      "text/plain": [
       "[17, 19, 23]"
      ]
     },
     "execution_count": 50,
     "metadata": {},
     "output_type": "execute_result"
    }
   ],
   "source": [
    "primefactor(7429)"
   ]
  },
  {
   "cell_type": "code",
   "execution_count": 13,
   "metadata": {},
   "outputs": [
    {
     "data": {
      "text/plain": [
       "5832"
      ]
     },
     "execution_count": 13,
     "metadata": {},
     "output_type": "execute_result"
    }
   ],
   "source": [
    "#ugly number.\n",
    "\n",
    "def maxdiv(a,b):\n",
    "    while(a%b==0):\n",
    "        a=a//b\n",
    "    return a\n",
    "\n",
    "def isugly(num):\n",
    "    num=maxdiv(num,2)\n",
    "    num=maxdiv(num,3)\n",
    "    num=maxdiv(num,5)\n",
    "    return True if num==1 else False\n",
    "\n",
    "def getugly(n):\n",
    "    i=1\n",
    "    count=1\n",
    "    while(n>count):\n",
    "        i+=1\n",
    "        if isugly(i):\n",
    "            count+=1\n",
    "    return i\n",
    "\n",
    "getugly(150)"
   ]
  },
  {
   "cell_type": "code",
   "execution_count": 26,
   "metadata": {},
   "outputs": [
    {
     "data": {
      "text/plain": [
       "5832"
      ]
     },
     "execution_count": 26,
     "metadata": {},
     "output_type": "execute_result"
    }
   ],
   "source": [
    "#using dynamic programming\n",
    "def getugly1(num):\n",
    "    ugly=[0]*num\n",
    "    \n",
    "    ugly[0]=1\n",
    "    \n",
    "    i2=i3=i5=0\n",
    "    \n",
    "    next2=2\n",
    "    next3=3\n",
    "    next5=5\n",
    "    \n",
    "    for l in range(1,num):\n",
    "        ugly[l]=min(next2,next3,next5)\n",
    "        \n",
    "        if ugly[l]==next2:\n",
    "            i2+=1\n",
    "            next2=ugly[i2]*2\n",
    "        if ugly[l]==next3:\n",
    "            i3+=1\n",
    "            next3=ugly[i3]*3\n",
    "        if ugly[l]==next5:\n",
    "            i5+=1\n",
    "            next5=ugly[i5]*5\n",
    "        \n",
    "    return ugly[-1]\n",
    "\n",
    "getugly1(150)"
   ]
  },
  {
   "cell_type": "code",
   "execution_count": 10,
   "metadata": {},
   "outputs": [
    {
     "name": "stdout",
     "output_type": "stream",
     "text": [
      "51200000\n"
     ]
    }
   ],
   "source": [
    "def getNthUglyNo(n):\n",
    " \n",
    "    ugly = [0] * n  # To store ugly numbers\n",
    " \n",
    "    # 1 is the first ugly number\n",
    "    ugly[0] = 1\n",
    " \n",
    "    # i2, i3, i5 will indicate indices for\n",
    "    # 2,3,5 respectively\n",
    "    i2 = i3 = i5 = 0\n",
    " \n",
    "    # Set initial multiple value\n",
    "    next_multiple_of_2 = 2\n",
    "    next_multiple_of_3 = 3\n",
    "    next_multiple_of_5 = 5\n",
    " \n",
    "    # Start loop to find value from\n",
    "    # ugly[1] to ugly[n]\n",
    "    for l in range(1, n):\n",
    " \n",
    "        # Shoose the min value of all\n",
    "        # available multiples\n",
    "        ugly[l] = min(next_multiple_of_2,\n",
    "                      next_multiple_of_3,\n",
    "                      next_multiple_of_5)\n",
    " \n",
    "        # Increment the value of index accordingly\n",
    "        if ugly[l] == next_multiple_of_2:\n",
    "            i2 += 1\n",
    "            next_multiple_of_2 = ugly[i2] * 2\n",
    " \n",
    "        if ugly[l] == next_multiple_of_3:\n",
    "            i3 += 1\n",
    "            next_multiple_of_3 = ugly[i3] * 3\n",
    " \n",
    "        if ugly[l] == next_multiple_of_5:\n",
    "            i5 += 1\n",
    "            next_multiple_of_5 = ugly[i5] * 5\n",
    " \n",
    "    # Return ugly[n] value\n",
    "    return ugly[-1]\n",
    " \n",
    "# Driver Code\n",
    "def main():\n",
    " \n",
    "    n = 1000\n",
    " \n",
    "    print (getNthUglyNo(n))\n",
    " \n",
    " \n",
    "if __name__ == '__main__':\n",
    "    main()"
   ]
  },
  {
   "cell_type": "code",
   "execution_count": 28,
   "metadata": {},
   "outputs": [
    {
     "name": "stdout",
     "output_type": "stream",
     "text": [
      "1\n",
      "1\n",
      "2\n",
      "5\n",
      "14\n",
      "42\n",
      "132\n",
      "429\n",
      "1430\n",
      "4862\n",
      "16796\n"
     ]
    }
   ],
   "source": [
    "#catalan number.\n",
    "\n",
    "def catalan(num):\n",
    "    \n",
    "    if num<=1:\n",
    "        return 1\n",
    "    res=0\n",
    "    for i in range(num):\n",
    "        res+=catalan(i)*catalan(num-i-1)\n",
    "    \n",
    "    return res\n",
    "\n",
    "for i in range(11):\n",
    "    print(catalan(i))"
   ]
  },
  {
   "cell_type": "code",
   "execution_count": 30,
   "metadata": {},
   "outputs": [
    {
     "data": {
      "text/plain": [
       "3"
      ]
     },
     "execution_count": 30,
     "metadata": {},
     "output_type": "execute_result"
    }
   ],
   "source": [
    "#bell number.\n",
    "\n",
    "def bell(num,way):\n",
    "    \n",
    "    if num==0 or way==0 or way>num:\n",
    "        return 0\n",
    "    if num==way or way==1:\n",
    "        return 1\n",
    "    return way*bell(num-1,way) + bell(num-1,way-1)\n",
    "\n",
    "bell(3,2)\n",
    "    "
   ]
  },
  {
   "cell_type": "code",
   "execution_count": 36,
   "metadata": {},
   "outputs": [
    {
     "data": {
      "text/plain": [
       "2"
      ]
     },
     "execution_count": 36,
     "metadata": {},
     "output_type": "execute_result"
    }
   ],
   "source": [
    "#Tiling Problem\n",
    "\n",
    "def tile(n):\n",
    "    if n==0:\n",
    "        return 0\n",
    "    if n==1:\n",
    "        return 1\n",
    "    return tile(n-1)+tile(n-2)\n",
    "\n",
    "tile(3)"
   ]
  },
  {
   "cell_type": "code",
   "execution_count": 6,
   "metadata": {},
   "outputs": [
    {
     "name": "stdout",
     "output_type": "stream",
     "text": [
      "4\n",
      "16\n"
     ]
    }
   ],
   "source": [
    "#power(n,m):\n",
    "def power(n,m):\n",
    "    if m==0:\n",
    "        return 1\n",
    "    else:\n",
    "        return n*power(n,m-1)\n",
    "if __name__==\"__main__\":\n",
    "    n=int(input())\n",
    "    print(poww(n,2))"
   ]
  },
  {
   "cell_type": "code",
   "execution_count": 4,
   "metadata": {},
   "outputs": [
    {
     "name": "stdout",
     "output_type": "stream",
     "text": [
      "2\n",
      "4\n"
     ]
    }
   ],
   "source": [
    "#power() using dynamic\n",
    "def poww(n,m):\n",
    "    poww=[1]*(m+1)\n",
    "    for i in range(1,m+1):\n",
    "        poww[i]=n*poww[i-1]\n",
    "    return poww[-1]\n",
    "if __name__==\"__main__\":\n",
    "    n=int(input())\n",
    "    print(poww(n,2))"
   ]
  },
  {
   "cell_type": "code",
   "execution_count": 23,
   "metadata": {},
   "outputs": [
    {
     "data": {
      "text/plain": [
       "4"
      ]
     },
     "execution_count": 23,
     "metadata": {},
     "output_type": "execute_result"
    }
   ],
   "source": [
    "#Coin Change Problem\n",
    "\n",
    "def coin(coin_arr,m,val):\n",
    "    if val==0:\n",
    "        return 1\n",
    "    if val<0:\n",
    "        return 0\n",
    "    if m<=0 and val>=0:\n",
    "        return 0\n",
    "    return coin(coin_arr, m-1,val) +coin(coin_arr,m,val-coin_arr[m-1])\n",
    "    \n",
    "    \n",
    "coin_arr=[1,2,3]\n",
    "m=len(coin_arr)\n",
    "val=4\n",
    "\n",
    "coin(coin_arr,m,val)"
   ]
  },
  {
   "cell_type": "code",
   "execution_count": 24,
   "metadata": {},
   "outputs": [
    {
     "data": {
      "text/plain": [
       "5"
      ]
     },
     "execution_count": 24,
     "metadata": {},
     "output_type": "execute_result"
    }
   ],
   "source": [
    "coina=[2,5,3,6]\n",
    "m=len(coina)\n",
    "val=10\n",
    "\n",
    "coin(coina,m,val)"
   ]
  },
  {
   "cell_type": "code",
   "execution_count": 16,
   "metadata": {},
   "outputs": [
    {
     "name": "stdout",
     "output_type": "stream",
     "text": [
      "10\n"
     ]
    }
   ],
   "source": [
    "'''Given n friends, each one can remain single or can be paired up with some other friend. Each friend can be paired only once.\n",
    "Find out the total number of ways in which friends can remain single or can be paired up.'''\n",
    "\n",
    "def frndpair(n):\n",
    "    if n<=2:\n",
    "        return n\n",
    "    else:\n",
    "        return frndpair(n-1)+(n-1)*frndpair(n-2)\n",
    "    \n",
    "if __name__==\"__main__\":\n",
    "    print(frndpair(4))"
   ]
  },
  {
   "cell_type": "code",
   "execution_count": 28,
   "metadata": {},
   "outputs": [
    {
     "name": "stdout",
     "output_type": "stream",
     "text": [
      "1 1 3 7 17 41 99 239 577 1393 3363 \n",
      "\n",
      "[1, 1, 3, 7, 17, 41, 99, 239, 577, 1393, 3363]\n"
     ]
    }
   ],
   "source": [
    "'''Recurrence relation for Newman–Shanks–Williams prime is:\n",
    "\n",
    "S_0 = 1\n",
    "S_1 = 1\n",
    "S_n = 2*S_{n-1} + S{n-2} \n",
    "The first few terms of the sequence are 1, 1, 3, 7, 17, 41, 99\n",
    "'''\n",
    "def nsw(n):\n",
    "    if n<2:\n",
    "        return 1\n",
    "    else:\n",
    "        return 2*nsw(n-1)+nsw(n-2)\n",
    "def snw(n):\n",
    "    res=[1]*(n+1)\n",
    "    for i in range(2,n+1):\n",
    "        res[i]=2*res[i-1]+res[i-2]\n",
    "        \n",
    "    return res\n",
    "\n",
    "\n",
    "if __name__==\"__main__\":\n",
    "    for i in range(11):\n",
    "        print(nsw(i),end=\" \")\n",
    "    print(\"\\n\")\n",
    "    print(snw(10))\n",
    "        \n",
    "        \n",
    "        \n"
   ]
  },
  {
   "cell_type": "code",
   "execution_count": 41,
   "metadata": {},
   "outputs": [
    {
     "name": "stdout",
     "output_type": "stream",
     "text": [
      "1 2 2 3 3 4 4 4 5 5 [1, 2, 2, 3, 3, 4, 4, 4, 5, 5]\n"
     ]
    }
   ],
   "source": [
    "'''\n",
    "Golomb sequence is a non-decreasing integer sequence where n-th term is equal to number of times n appears in the sequence.\n",
    "The first few values are \n",
    "1, 2, 2, 3, 3, 4, 4, 4, 5, 5, 5, ……\n",
    "'''\n",
    "\n",
    "def golumb(n): \n",
    "    if n==1:\n",
    "        return 1\n",
    "    else:\n",
    "        return 1 + golumb(n-golumb(golumb(n-1)))\n",
    "    \n",
    "def golumb2(n):   #dynamic\n",
    "    res=[1]*(n+1)\n",
    "    \n",
    "    for i in range(2,n+1):\n",
    "        res[i]=1+res[i-res[res[i-1]]]\n",
    "        \n",
    "    print(res[1:])\n",
    "    \n",
    "if __name__==\"__main__\":\n",
    "    for i in range(1,11):\n",
    "        print(golumb(i),end=\" \")\n",
    "        \n",
    "    golumb2(10)\n",
    "\n"
   ]
  },
  {
   "cell_type": "code",
   "execution_count": 46,
   "metadata": {},
   "outputs": [
    {
     "name": "stdout",
     "output_type": "stream",
     "text": [
      "13\n",
      "The sequence is : [0, 1, 1, 2, 2, 3, 4, 4, 4, 5, 6, 7, 7, 8]\n"
     ]
    }
   ],
   "source": [
    "#Print n terms of Newman-Conway Sequence.\n",
    "\n",
    "def ncs(n):\n",
    "    seq=[0,1,1]\n",
    "    \n",
    "    for i in range(3,n+1):\n",
    "        seq.append(seq[seq[i-1]]+seq[i-seq[i-1]])\n",
    "        \n",
    "    return seq\n",
    "\n",
    "\n",
    "if __name__==\"__main__\":\n",
    "    n=int(input())\n",
    "    print(\"The sequence is :\",ncs(n))"
   ]
  },
  {
   "cell_type": "code",
   "execution_count": 61,
   "metadata": {},
   "outputs": [
    {
     "name": "stdout",
     "output_type": "stream",
     "text": [
      "Maximum Obtainable Value is 22\n"
     ]
    }
   ],
   "source": [
    "INT_min=-30000\n",
    "\n",
    "def cuttingrod(arr,n):\n",
    "    val=[0]*(n+1)\n",
    "    for i in range(1,n+1):\n",
    "        maxval=INT_min\n",
    "        for j in range(i):\n",
    "            maxval=max(maxval, arr[j]+val[i-j-1])\n",
    "        val[i]=maxval\n",
    "    return val[n]\n",
    "\n",
    "arr = [1, 5, 8, 9, 10, 17, 17, 20]\n",
    "size = len(arr)\n",
    "print(\"Maximum Obtainable Value is \" + str(cuttingrod(arr, size)))"
   ]
  },
  {
   "cell_type": "code",
   "execution_count": 65,
   "metadata": {},
   "outputs": [
    {
     "data": {
      "text/plain": [
       "3"
      ]
     },
     "execution_count": 65,
     "metadata": {},
     "output_type": "execute_result"
    }
   ],
   "source": [
    "#Maximum games played by winner.\n",
    "\n",
    "def maxgame(n):\n",
    "    dp=[1]*(n+1)\n",
    "    dp[1]=2\n",
    "    i=1\n",
    "    while dp[i]<=n:\n",
    "        i+=1\n",
    "        dp[i]=dp[i-1]+dp[i-2]\n",
    "        \n",
    "    return i-1\n",
    "\n",
    "\n",
    "maxgame(5)"
   ]
  },
  {
   "cell_type": "code",
   "execution_count": 123,
   "metadata": {},
   "outputs": [],
   "source": [
    "#Miximum Sum Path in a Triangle\n",
    "\n",
    "def maxcost(arr,m,n):\n",
    "    i=j=0\n",
    "    sums=arr[i][j]\n",
    "    while i<m and j<n:\n",
    "        val=max(arr[i+1][j], arr[i+1][j+1]) if j==0 else max(arr[i+1][j], arr[i+1][j-1],arr[i+1][j+1])\n",
    "        i+=1\n",
    "        if arr[i][j-1]==val:\n",
    "            j=j-1\n",
    "        if arr[i][j+1]==val:\n",
    "            j=j+1\n",
    "        sums+=val\n",
    "        \n",
    "    return sums\n"
   ]
  },
  {
   "cell_type": "code",
   "execution_count": 124,
   "metadata": {},
   "outputs": [
    {
     "data": {
      "text/plain": [
       "14"
      ]
     },
     "execution_count": 124,
     "metadata": {},
     "output_type": "execute_result"
    }
   ],
   "source": [
    "tri = [[1, 0, 0],\n",
    "       [4, 8, 0],\n",
    "       [1, 5, 3]]\n",
    "\n",
    "maxcost(tri,2,2)"
   ]
  },
  {
   "cell_type": "code",
   "execution_count": 125,
   "metadata": {},
   "outputs": [
    {
     "data": {
      "text/plain": [
       "23"
      ]
     },
     "execution_count": 125,
     "metadata": {},
     "output_type": "execute_result"
    }
   ],
   "source": [
    "tria=[[3, 0, 0],\n",
    "[7, 4, 0 ],\n",
    "[2, 4, 6],\n",
    "[8, 5, 9]]\n",
    "\n",
    "maxcost(tria,3,2)"
   ]
  },
  {
   "cell_type": "code",
   "execution_count": 127,
   "metadata": {},
   "outputs": [
    {
     "data": {
      "text/plain": [
       "14"
      ]
     },
     "execution_count": 127,
     "metadata": {},
     "output_type": "execute_result"
    }
   ],
   "source": [
    "#Minimum Sum Path in a Triangle\n",
    "def mincost(arr,m,n):\n",
    "    i=j=0\n",
    "    sums=arr[i][j]\n",
    "    while i<m and j<n:\n",
    "        val=min(arr[i+1][j], arr[i+1][j+1]) if j==0 else min(arr[i+1][j], arr[i+1][j-1],arr[i+1][j+1])\n",
    "        i+=1\n",
    "        if arr[i][j-1]==val:\n",
    "            j=j-1\n",
    "        if arr[i][j+1]==val:\n",
    "            j=j+1\n",
    "        sums+=val\n",
    "        \n",
    "    return sums\n",
    "\n",
    "tria=[[3, 0, 0],\n",
    "[7, 4, 0 ],\n",
    "[2, 4, 6],\n",
    "[8, 5, 9]]\n",
    "\n",
    "mincost(tria,3,2)"
   ]
  },
  {
   "cell_type": "code",
   "execution_count": 138,
   "metadata": {},
   "outputs": [
    {
     "data": {
      "text/plain": [
       "6"
      ]
     },
     "execution_count": 138,
     "metadata": {},
     "output_type": "execute_result"
    }
   ],
   "source": [
    "#converting a triangular matrix into square.\n",
    "\n",
    "def tri_to_square(arr):\n",
    "    m=len(arr)\n",
    "    n=0\n",
    "    for i in range(m):\n",
    "        n=max(len(arr[i]),n)\n",
    "    for i in range(m):\n",
    "        temp=len(arr[i])\n",
    "        for j in range(n-temp):\n",
    "            arr[i].append(0)\n",
    "    return arr,m-1,n-1\n",
    "A = [[ 2 ],\n",
    "    [3, 9 ],\n",
    "    [1, 6, 7 ]]\n",
    "A,m,n=tri_to_square(A)\n",
    "mincost(A,m,n)\n"
   ]
  },
  {
   "cell_type": "code",
   "execution_count": 146,
   "metadata": {},
   "outputs": [
    {
     "name": "stdout",
     "output_type": "stream",
     "text": [
      "[4, -1, -2, 1, 5]\n"
     ]
    },
    {
     "data": {
      "text/plain": [
       "5"
      ]
     },
     "execution_count": 146,
     "metadata": {},
     "output_type": "execute_result"
    }
   ],
   "source": [
    "#Size of The Subarray With Maximum Sum\n",
    "\n",
    "def maxsum(arr):\n",
    "    n=len(arr)\n",
    "    res=0\n",
    "    seq=[]\n",
    "    maxm=-30000\n",
    "    for i in range(n-1):\n",
    "        for j in range(i,n):\n",
    "            if sum(arr[i:j+1]) >maxm:\n",
    "                maxm=sum(arr[i:j+1])\n",
    "                seq=arr[i:j+1]\n",
    "                res=len(arr[i:j+1])\n",
    "    print(seq)\n",
    "    return res\n",
    "\n",
    "arr=[-2, -3, 4, -1, -2, 1, 5, -3 ]\n",
    "maxsum(arr)"
   ]
  },
  {
   "cell_type": "code",
   "execution_count": 147,
   "metadata": {},
   "outputs": [
    {
     "name": "stdout",
     "output_type": "stream",
     "text": [
      "[1, 1]\n"
     ]
    },
    {
     "data": {
      "text/plain": [
       "2"
      ]
     },
     "execution_count": 147,
     "metadata": {},
     "output_type": "execute_result"
    }
   ],
   "source": [
    "t=[1, -2, 1, 1, -2, 1]\n",
    "maxsum(t)"
   ]
  },
  {
   "cell_type": "code",
   "execution_count": 148,
   "metadata": {},
   "outputs": [
    {
     "data": {
      "text/plain": [
       "[[2, 0, 0], [3, 9, 0], [1, 6, 7]]"
      ]
     },
     "execution_count": 148,
     "metadata": {},
     "output_type": "execute_result"
    }
   ],
   "source": [
    "def tri_to_square(arr):\n",
    "    m=len(arr)\n",
    "    n=0\n",
    "    for i in range(m):\n",
    "        n=max(len(arr[i]),n)\n",
    "    for i in range(m):\n",
    "        temp=len(arr[i])\n",
    "        for j in range(n-temp):\n",
    "            arr[i].append(0)\n",
    "    return arr\n",
    "A = [[ 2 ],\n",
    "    [3, 9 ],\n",
    "    [1, 6, 7 ]]\n",
    "A=tri_to_square(A)\n",
    "A"
   ]
  },
  {
   "cell_type": "code",
   "execution_count": null,
   "metadata": {},
   "outputs": [],
   "source": []
  }
 ],
 "metadata": {
  "kernelspec": {
   "display_name": "Python 3",
   "language": "python",
   "name": "python3"
  },
  "language_info": {
   "codemirror_mode": {
    "name": "ipython",
    "version": 3
   },
   "file_extension": ".py",
   "mimetype": "text/x-python",
   "name": "python",
   "nbconvert_exporter": "python",
   "pygments_lexer": "ipython3",
   "version": "3.7.3"
  }
 },
 "nbformat": 4,
 "nbformat_minor": 2
}
