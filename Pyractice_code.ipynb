{
 "cells": [
  {
   "cell_type": "code",
   "execution_count": 11,
   "metadata": {},
   "outputs": [
    {
     "name": "stdout",
     "output_type": "stream",
     "text": [
      "shashi sharma\n"
     ]
    }
   ],
   "source": [
    "#Code for copying a string without using string functions.\n",
    "def new(s1, s2):\n",
    "    for i in range(len(s1)):\n",
    "        s2[i]=s1[i]\n",
    "name1=\"shashi sharma\"\n",
    "name2=[\"\"]*len(name1)# used to make list of len(name1) spaces.\n",
    "new(name1, name2)\n",
    "\n",
    "print(\"\".join(name2)) # used to join lists with specified character."
   ]
  },
  {
   "cell_type": "code",
   "execution_count": 14,
   "metadata": {},
   "outputs": [
    {
     "name": "stdout",
     "output_type": "stream",
     "text": [
      "{'z', 'j', 'f', 'n', 'l', 'h', 'v', 'q', 'a', 'y', 'k', 'r', 's', 'o', 'b', 'g', 'u', 't', 'd', 'i', 'c', 'w', 'x', 'm', 'p', 'e'}\n",
      "Pangram\n"
     ]
    }
   ],
   "source": [
    "#Code to check whether a sentence is pangram or not\n",
    "text=\"A quick brown fox jumps over the lazy dog\"\n",
    "pal=set()\n",
    "for i in text.lower():\n",
    "    if i.isalpha():                            \n",
    "        pal.add(i)\n",
    "print(pal)      \n",
    "if len((pal))==26: \n",
    "    print(\"Pangram\")\n",
    "else:\n",
    "    print(\"Not Pangram\")"
   ]
  },
  {
   "cell_type": "code",
   "execution_count": 19,
   "metadata": {},
   "outputs": [
    {
     "name": "stdout",
     "output_type": "stream",
     "text": [
      "lyz\n"
     ]
    }
   ],
   "source": [
    "#Code for getting the missing character to make a pangram.\n",
    "def missingchar(text):\n",
    "    alpha_string=\"abcdefghijklmnopqrstuvwxyz\"\n",
    "    for x in text.lower():\n",
    "        if x in alpha_string:\n",
    "            alpha_string=alpha_string.replace(x, \"\")\n",
    "    return alpha_string\n",
    "b=missingchar(\"A quick brown fox jumps over the dog\")\n",
    "print(b)"
   ]
  },
  {
   "cell_type": "code",
   "execution_count": 23,
   "metadata": {
    "scrolled": true
   },
   "outputs": [
    {
     "name": "stdout",
     "output_type": "stream",
     "text": [
      "Welcome to GeeksforGeeks123\n"
     ]
    }
   ],
   "source": [
    "#code to replace punctuations from a string.\n",
    "def punct(string):\n",
    "    for x in string:\n",
    "        if not x.isspace() and not x.isalnum() :\n",
    "            string= string.replace(x, \"\")\n",
    "    return string\n",
    "string = \"Welcome???@@##$ to#$% Geeks%$^for$%^&Geeks\"\n",
    "r=punct(string)\n",
    "print(r)"
   ]
  },
  {
   "cell_type": "code",
   "execution_count": 2,
   "metadata": {},
   "outputs": [
    {
     "data": {
      "text/plain": [
       "40"
      ]
     },
     "execution_count": 2,
     "metadata": {},
     "output_type": "execute_result"
    }
   ],
   "source": []
  },
  {
   "cell_type": "code",
   "execution_count": 21,
   "metadata": {},
   "outputs": [
    {
     "name": "stdout",
     "output_type": "stream",
     "text": [
      "False\n",
      "False\n"
     ]
    }
   ],
   "source": [
    "#Code to check if input is integer/string.\n",
    "def check(data):\n",
    "    if type(data)==int:\n",
    "        return True\n",
    "    else:\n",
    "        return False\n",
    "    \n",
    "def check2(data):\n",
    "    status=True\n",
    "    for x in data:\n",
    "        if x.isdigit()!=True:\n",
    "            status=False\n",
    "            break\n",
    "    return status\n",
    "print(check2('32s4'))\n",
    "print(check('32s4'))"
   ]
  },
  {
   "cell_type": "code",
   "execution_count": 3,
   "metadata": {},
   "outputs": [
    {
     "name": "stdout",
     "output_type": "stream",
     "text": [
      "S K S \n"
     ]
    }
   ],
   "source": [
    "#Code for finding initials of a name.\n",
    "def punct(string):\n",
    "    text=string.title()\n",
    "    for x in text:\n",
    "        if not x.isupper() and not x.isspace():\n",
    "            text= text.replace(x, \"\")\n",
    "    return text\n",
    "print(punct(\"shashi kumar sharma \"))"
   ]
  },
  {
   "cell_type": "code",
   "execution_count": 4,
   "metadata": {},
   "outputs": [
    {
     "name": "stdout",
     "output_type": "stream",
     "text": [
      "0\n",
      "True\n"
     ]
    }
   ],
   "source": [
    "#Code to check duck-number.\n",
    "def check_duck(string):\n",
    "    i=0\n",
    "    while(i<len(string) and string[i]=='0'):\n",
    "        i+=1\n",
    "    while(i<len(string)):\n",
    "        if string[i]=='0':\n",
    "            return True\n",
    "            break\n",
    "        i+=1\n",
    "    return False\n",
    "print(check_duck('1101)'))"
   ]
  },
  {
   "cell_type": "code",
   "execution_count": 16,
   "metadata": {},
   "outputs": [
    {
     "name": "stdout",
     "output_type": "stream",
     "text": [
      "20\n"
     ]
    }
   ],
   "source": [
    "#code to round a given number to nearest multiple of 10\n",
    "import string\n",
    "def round(value):\n",
    "    a=(value//10)*10\n",
    "    b=a+10\n",
    "    return (b if value-a>=b-value else a)\n",
    "print(round(16))\n"
   ]
  },
  {
   "cell_type": "code",
   "execution_count": 15,
   "metadata": {},
   "outputs": [
    {
     "name": "stdout",
     "output_type": "stream",
     "text": [
      "20\n"
     ]
    }
   ],
   "source": [
    "def round2(value):\n",
    "    a=value%10\n",
    "    if a<5:\n",
    "        return (value//10)*10\n",
    "    else:\n",
    "        return (value//10)*10+10\n",
    "print(round2(16))"
   ]
  },
  {
   "cell_type": "code",
   "execution_count": 3,
   "metadata": {},
   "outputs": [
    {
     "name": "stdout",
     "output_type": "stream",
     "text": [
      "geek\n",
      "code\n"
     ]
    }
   ],
   "source": [
    "#Code to change string into given character set.\n",
    "\n",
    "def change_text(text):\n",
    "    string=[]\n",
    "    char_set=\"qwertyuiopasdfghjklzxcvbnm\"\n",
    "    for x in text:\n",
    "        t=chr(char_set.index(x) + ord('a'))\n",
    "        string.append(t)\n",
    "        \n",
    "    return \"\".join(string)\n",
    "print(change_text('utta'))\n",
    "\n",
    "print(change_text('egrt'))"
   ]
  },
  {
   "cell_type": "code",
   "execution_count": 8,
   "metadata": {},
   "outputs": [
    {
     "name": "stdout",
     "output_type": "stream",
     "text": [
      "1\n",
      "49\n"
     ]
    }
   ],
   "source": [
    "print(chr(49))\n",
    "print(ord('1'))"
   ]
  },
  {
   "cell_type": "code",
   "execution_count": 35,
   "metadata": {},
   "outputs": [
    {
     "name": "stdout",
     "output_type": "stream",
     "text": [
      "['john', 'johnny']\n"
     ]
    }
   ],
   "source": [
    "#code to find the winner of an election.\n",
    "text=[\"john\", \"johnny\", \"jackie\", \n",
    "                    \"johnny\", \"john\", \"jackie\", \n",
    "                    \"jamie\", \"jamie\", \"john\",\n",
    "                    \"johnny\", \"jamie\", \"johnny\", \n",
    "                    \"john\"]\n",
    "def winner(text):\n",
    "    candidates=(set(text))\n",
    "    name_list={}\n",
    "    winner=[]\n",
    "    for x in candidates:\n",
    "        name_list[x]=text.count(x)\n",
    "    for x in candidates:\n",
    "        if name_list[x]==max(name_list.values()):\n",
    "            winner.append(x)\n",
    "    return winner\n",
    "print(winner(text))       "
   ]
  },
  {
   "cell_type": "code",
   "execution_count": 9,
   "metadata": {},
   "outputs": [
    {
     "name": "stdout",
     "output_type": "stream",
     "text": [
      "['11', '', '', '1111', '1', '1', '111']\n",
      "4\n"
     ]
    }
   ],
   "source": [
    "#Code to find Maximum length of consecutive 1’s in a binary string\n",
    "input = '11000111101010111'\n",
    "print(input.split(\"0\"))\n",
    "print (max(map(len,input.split('0')))) # map function returns an iterator(just like range())"
   ]
  },
  {
   "cell_type": "code",
   "execution_count": 52,
   "metadata": {},
   "outputs": [
    {
     "name": "stdout",
     "output_type": "stream",
     "text": [
      "['a', 's']\n"
     ]
    }
   ],
   "source": [
    "#Code to find the maximum occuring character in a string.\n",
    "def occur(text):\n",
    "    count=max(map(text.count,text))\n",
    "    char_list=[]\n",
    "    for x in text:\n",
    "        if text.count(x)==count:\n",
    "            char_list.append(x)\n",
    "    return list(set(char_list))\n",
    "print(occur('shashi sharma shashi sharma is an Engineer!!!!'))"
   ]
  },
  {
   "cell_type": "code",
   "execution_count": 2,
   "metadata": {},
   "outputs": [
    {
     "name": "stdout",
     "output_type": "stream",
     "text": [
      "['sharma', 'shashi']\n"
     ]
    }
   ],
   "source": [
    "#Code to find the maximum occuring word in a string.\n",
    "def word_max(text):\n",
    "    x=text.split()\n",
    "    c=max(map(x.count,x))\n",
    "    word_list=[]\n",
    "    for x in text.split():\n",
    "        if text.split().count(x)==c:\n",
    "            word_list.append(x)\n",
    "    return list(set(word_list))\n",
    "print(word_max('shashi sharma shashi sharma is an Engineer!!!'))"
   ]
  },
  {
   "cell_type": "code",
   "execution_count": 6,
   "metadata": {},
   "outputs": [
    {
     "name": "stdout",
     "output_type": "stream",
     "text": [
      " karnataka lies partly on the coast and higher parts of plateau. state is spread over an area around 1,92,000 sq. km.\n"
     ]
    }
   ],
   "source": [
    "#Code to remove duplicates from a string.(not case sensitive!!!)\n",
    "def remove_dup(text):\n",
    "    word=[]\n",
    "    out=\"\"\n",
    "    for x in text.lower().split():   # if the code is not case sensitive.\n",
    "        if x not in word:\n",
    "            out+= \" \"+x\n",
    "            word.append(x)\n",
    "    return out\n",
    "print(remove_dup(\"Karnataka lies partly on the coast and partly on the higher parts of the plateau. The state is spread over an area of around 1,92,000 sq. km.\"))"
   ]
  },
  {
   "cell_type": "code",
   "execution_count": 7,
   "metadata": {},
   "outputs": [
    {
     "name": "stdout",
     "output_type": "stream",
     "text": [
      " Karnataka lies partly on the coast and higher parts of plateau. The state is spread over an area around 1,92,000 sq. km.\n"
     ]
    }
   ],
   "source": [
    "#Code to remove duplicates from a string.(case sensitive!!!)\n",
    "def remove_dup(text):\n",
    "    word=[]\n",
    "    out=\"\"\n",
    "    for x in text.split():   # if the code is case sensitive.\n",
    "        if x not in word:\n",
    "            out+= \" \"+x\n",
    "            word.append(x)\n",
    "    return out\n",
    "print(remove_dup(\"Karnataka lies partly on the coast and partly on the higher parts of the plateau. The state is spread over an area of around 1,92,000 sq. km.\"))"
   ]
  },
  {
   "cell_type": "code",
   "execution_count": 11,
   "metadata": {},
   "outputs": [
    {
     "name": "stdout",
     "output_type": "stream",
     "text": [
      " Shashi did his schooling from\n"
     ]
    }
   ],
   "source": [
    "#code to remove duplicates in one given string which is present in other string.\n",
    "def remove_word(text1, text2):\n",
    "    word=text1.split()\n",
    "    out=\"\"\n",
    "    for x in text2.split():   # if the code is case sensitive.\n",
    "        if x not in word:\n",
    "            out+= \" \"+x\n",
    "            word.append(x)\n",
    "    return out\n",
    "text1=\"shashi sharma lives in Purnea.\"\n",
    "text2= \"Shashi sharma did his schooling from Purnea.\"\n",
    "print(remove_word(text1,text2))"
   ]
  },
  {
   "cell_type": "code",
   "execution_count": 19,
   "metadata": {},
   "outputs": [
    {
     "name": "stdout",
     "output_type": "stream",
     "text": [
      "reenigne na si amrahS ihsahS\n"
     ]
    }
   ],
   "source": [
    "#reversing each character from a given string.\n",
    "def reverse(string):\n",
    "    i=\"\"\n",
    "    for x in string:\n",
    "        i= x+i\n",
    "    return i\n",
    "print(reverse('Shashi Sharma is an engineer'))"
   ]
  },
  {
   "cell_type": "code",
   "execution_count": 21,
   "metadata": {},
   "outputs": [
    {
     "name": "stdout",
     "output_type": "stream",
     "text": [
      "engineer an is Sharma Shashi\n"
     ]
    }
   ],
   "source": [
    "#reversing each word in a given string.\n",
    "def reverse_word(string):\n",
    "    return \" \".join(string.split()[::-1])\n",
    "print(reverse_word('Shashi Sharma is an engineer'))\n"
   ]
  },
  {
   "cell_type": "code",
   "execution_count": 2,
   "metadata": {},
   "outputs": [
    {
     "name": "stdout",
     "output_type": "stream",
     "text": [
      "False\n"
     ]
    }
   ],
   "source": [
    "#code to check whether a string is palindrome or not!\n",
    "\n",
    "def palindrome(string):\n",
    "    flag=True\n",
    "    for i in range(len(string)):\n",
    "        if string[i] != string[-i-1]:\n",
    "            flag=False\n",
    "            break\n",
    "    return flag\n",
    "print(palindrome('madam'))"
   ]
  },
  {
   "cell_type": "code",
   "execution_count": 9,
   "metadata": {},
   "outputs": [
    {
     "data": {
      "text/plain": [
       "'for geeks'"
      ]
     },
     "execution_count": 9,
     "metadata": {},
     "output_type": "execute_result"
    }
   ],
   "source": [
    "#code to find smallest substring containing all characters from 1st string.\n",
    "def small_sub(pattern, string):\n",
    "    sublist=[string[i:j] for i in range(len(string)) for j in range(i+1,len(string)+1)]\n",
    "    cand=[]\n",
    "    for x in sublist:\n",
    "        if set(pattern).issubset(set(x)):\n",
    "            cand.append(x)\n",
    "    for x in cand:\n",
    "        if len(x)==min(map(len, cand)):\n",
    "            return x\n",
    "small_sub(\"frgeeks\",\"geek for geeks\")"
   ]
  },
  {
   "cell_type": "code",
   "execution_count": 19,
   "metadata": {},
   "outputs": [
    {
     "data": {
      "image/png": "[encoded data removed]",
      "text/plain": [
       "<PIL.PngImagePlugin.PngImageFile image mode=RGBA size=933x417 at 0x25C6CA6BC88>"
      ]
     },
     "execution_count": 19,
     "metadata": {},
     "output_type": "execute_result"
    }
   ],
   "source": [
    "#mock test question:\n",
    "from PIL import Image\n",
    "mac = Image.open('C:\\\\Users\\\\Shashi\\\\Pictures\\\\mock_question.png')\n",
    "mac"
   ]
  },
  {
   "cell_type": "code",
   "execution_count": 34,
   "metadata": {},
   "outputs": [
    {
     "name": "stdout",
     "output_type": "stream",
     "text": [
      "Enter the distance covered by each marathon participant please\n",
      "\n",
      "please 'q' to terminate\n",
      "2.12\n",
      "3.21\n",
      "42.195\n",
      "0.00\n",
      "q\n",
      "[3.21, 2.12]\n"
     ]
    }
   ],
   "source": [
    "#Mock test code\n",
    "\n",
    "def marathon(R):\n",
    "    d=42.195\n",
    "    [R.remove(x) for x in R if x==d]\n",
    "    R.sort(reverse=True)\n",
    "    if len(R)<=2:\n",
    "        print(R[:2])\n",
    "    else:    \n",
    "        print(R)\n",
    "if __name__==\"__main__\":\n",
    "    exit=False\n",
    "    R=[]\n",
    "    print(\"Enter the distance covered by each marathon participant please\\n\")\n",
    "    print(\"please 'q' to terminate\")\n",
    "    while exit==False:\n",
    "        r=input()\n",
    "        if str(r)!= 'q':\n",
    "            if float(r)!=float(0):\n",
    "                R.append(float(r))\n",
    "        else:\n",
    "            exit=True\n",
    "    d=42.195\n",
    "    Flag=True\n",
    "    for x in R:\n",
    "        if x<0 or x>d:\n",
    "            print(\"invalid input\")\n",
    "            flag=False\n",
    "            break\n",
    "    if Flag:\n",
    "        marathon(R)"
   ]
  },
  {
   "cell_type": "code",
   "execution_count": 15,
   "metadata": {},
   "outputs": [
    {
     "name": "stdout",
     "output_type": "stream",
     "text": [
      "    1     1     1     1\n",
      "    2     2     2    10\n",
      "    3     3     3    11\n",
      "    4     4     4   100\n",
      "    5     5     5   101\n",
      "    6     6     6   110\n",
      "    7     7     7   111\n",
      "    8    10     8  1000\n",
      "    9    11     9  1001\n",
      "   10    12     A  1010\n",
      "   11    13     B  1011\n",
      "   12    14     C  1100\n",
      "   13    15     D  1101\n",
      "   14    16     E  1110\n",
      "   15    17     F  1111\n",
      "   16    20    10 10000\n",
      "   17    21    11 10001\n"
     ]
    }
   ],
   "source": [
    "'''Given an integer, , print the following values for each integer  from  1 to n :\n",
    "Decimal   Octal   Hexadecimal (capitalized)   Binary\n",
    "The four values must be printed on a single line in the order specified above for each  from  to . Each value should be space-padded to match the width of the binary value of n'''\n",
    "\n",
    "def number(n):\n",
    "    width=len('{0:b}'.format(n))\n",
    "    for i in range(1, n+1):\n",
    "        print('{0:{width}d} {0:{width}o} {0:{width}X} {0:{width}b}'.format(i, width=width))\n",
    "number(17)"
   ]
  },
  {
   "cell_type": "code",
   "execution_count": 29,
   "metadata": {},
   "outputs": [
    {
     "name": "stdout",
     "output_type": "stream",
     "text": [
      "False\n",
      "True\n"
     ]
    }
   ],
   "source": [
    "'''In the Byteland country, a string S is said to super ASCII string if and only if the count of each character in the string\n",
    "is equal to its ASCII value. In the Byteland country ASCII code of ‘a’ is 1, ‘b’ is 2, …, ‘z’ is 26. \n",
    "The task is to find out whether the given string is a super ASCII string or not. If true, then print “Yes” otherwise print “No”'''\n",
    "def superASCII(n):\n",
    "    flag=True\n",
    "    for x in set(n.lower()):\n",
    "        if n.lower().count(x)!=ord(x)-96:\n",
    "            flag=False\n",
    "            break\n",
    "    return flag\n",
    "print(superASCII('shashi'))\n",
    "print(superASCII('BBa'))"
   ]
  },
  {
   "cell_type": "code",
   "execution_count": 20,
   "metadata": {},
   "outputs": [
    {
     "name": "stdout",
     "output_type": "stream",
     "text": [
      "enter count of values you are going to insert7\n",
      "Enter 7 numbers\n",
      "3\n",
      "1\n",
      "2\n",
      "-2\n",
      "5\n",
      "6\n",
      "1\n",
      "180\n"
     ]
    }
   ],
   "source": [
    "# Code for getting the maximum product of quadruplet of an array of numbers.\n",
    "# This code may or maynot work on actual scenario\n",
    "#given 0<=p<q<r<s from each elements in quadruplet.\n",
    "def quadruplet(array, n):\n",
    "    array.sort()\n",
    "    large_product=array[n-1]*array[n-2]*array[n-3]*array[n-4]\n",
    "    medium_product=array[n-1]*array[n-2]*array[0]*array[1]\n",
    "    lower_product=array[0]*array[1]*array[2]*array[3]\n",
    "    return max(large_product, medium_product, lower_product)\n",
    "if __name__==\"__main__\":\n",
    "    n=int(input(\"enter count of values you are going to insert\"))\n",
    "    print(\"Enter {} numbers\".format(n))\n",
    "    arr=[]\n",
    "    for i in range(n):\n",
    "            arr.append(int(input()))\n",
    "    if n<4:\n",
    "        print(\"Invalid Input!!!\")\n",
    "    else:\n",
    "        print(quadruplet(arr,n))"
   ]
  },
  {
   "cell_type": "code",
   "execution_count": 5,
   "metadata": {},
   "outputs": [
    {
     "name": "stdout",
     "output_type": "stream",
     "text": [
      "enter count of values you are going to insert7\n",
      "Enter 7 numbers\n",
      "3\n",
      "1\n",
      "2\n",
      "-2\n",
      "5\n",
      "6\n",
      "1\n",
      "180\n"
     ]
    }
   ],
   "source": [
    "# Code for getting the maximum product of quadruplet of an array of numbers.\n",
    "#same code with brute force method.\n",
    "def quad(arr,n):\n",
    "    maxm=0\n",
    "    for p in range(n-3):\n",
    "        for q in range(p+1, n-2):\n",
    "            for r in range(q+1, n-1):\n",
    "                for s in range(r+1,n):\n",
    "                    if arr[p]*arr[q]*arr[r]*arr[s] >maxm:\n",
    "                        maxm=arr[p]*arr[q]*arr[r]*arr[s]\n",
    "    return maxm\n",
    "if __name__==\"__main__\":\n",
    "    n=int(input(\"enter count of values you are going to insert\"))\n",
    "    print(\"Enter {} numbers\".format(n))\n",
    "    arr=[]\n",
    "    for i in range(n):\n",
    "            arr.append(int(input()))\n",
    "    if n<4:\n",
    "        print(\"Invalid Input!!!\")\n",
    "    else:\n",
    "        print(quad(arr,n))                    "
   ]
  },
  {
   "cell_type": "markdown",
   "metadata": {},
   "source": [
    "John is a geologist, and he needs to count rock samples in order to send it to a chemical laboratory. He has a problem. \n",
    "The laboratory only accepts rock samples by a range of its size in ppm (parts per million). John needs your help. \n",
    "Your task is to develop a program to get the number of rocks in each range accepted by the laboratory.\n",
    "Given an array samples[] denoting sizes of rock samples and a 2D array ranges[], the task is to count the rock samples \n",
    "that are in the range ranges[i][0] to ranges[i][1], for every possible 1 <= i <= N."
   ]
  },
  {
   "cell_type": "code",
   "execution_count": 7,
   "metadata": {},
   "outputs": [
    {
     "name": "stdout",
     "output_type": "stream",
     "text": [
      "[0, 2]\n"
     ]
    }
   ],
   "source": [
    "def rock_sample(rock, group):\n",
    "    a=[]\n",
    "    for i in range(len(group)):\n",
    "        l,h=group[i][0],group[i][1]\n",
    "        count=0\n",
    "        for val in rock:\n",
    "            if l<=val<=h:\n",
    "                count+=1\n",
    "        a.append(count)\n",
    "    return a\n",
    "rock=[400, 567, 890, 765, 987]\n",
    "group=[[300, 380], [800, 1000]]\n",
    "print(rock_sample(rock, group))"
   ]
  },
  {
   "cell_type": "code",
   "execution_count": 9,
   "metadata": {},
   "outputs": [
    {
     "name": "stdout",
     "output_type": "stream",
     "text": [
      "[2, 4]\n"
     ]
    }
   ],
   "source": [
    "rock=[345, 604, 321, 433, 704, 470, 808, 718, 517, 811]\n",
    "group=[[300, 380], [400, 700]]\n",
    "print(rock_sample(rock, group))"
   ]
  },
  {
   "cell_type": "markdown",
   "metadata": {},
   "source": [
    "Given two arrays of H[] and B[] consisting of N and M integers respectively, denoting the diameter of holes and balls respectively. \n",
    "M number of balls are made to roll from A to B on a sloping surface with N holes, each having different depth\n",
    "The task is to find the eventual position of each ball in the order of the ball released considering the following:\n",
    "\n",
    "A ball will fall into a hole if its diameter is less than or equal to the diameter of the hole.\n",
    "A hole Hi will become full if i numbers of balls fall into it.\n",
    "If a hole is full, then no more balls fall into it.\n",
    "A ball will reach B from A, if and only if it is not falling into any one of the holes.\n",
    "If a ball is in hole Pi, then its position is i. If a ball reached the bottom point B, then take its position as 0."
   ]
  },
  {
   "cell_type": "code",
   "execution_count": 27,
   "metadata": {},
   "outputs": [
    {
     "name": "stdout",
     "output_type": "stream",
     "text": [
      "[1, 0, 3, 0, 0, 3, 3, 2, 2, 0, 0]\n"
     ]
    }
   ],
   "source": [
    "\n",
    "if __name__==\"__main__\":\n",
    "    holes=[21, 3, 6]\n",
    "    balls=[20, 15, 5, 7, 10, 4, 2, 1, 3, 6, 8]\n",
    "    ball_count=[0]*len(holes)\n",
    "    ball_pos=[0]*len(balls)\n",
    "    for i in range(len(balls)):\n",
    "        for j in reversed(range(len(holes))):\n",
    "            if balls[i]<=holes[j] and ball_count[j]<=j:\n",
    "                ball_pos[i]=j+1\n",
    "                ball_count[j]+=1\n",
    "                break\n",
    "    print( ball_pos)"
   ]
  },
  {
   "cell_type": "code",
   "execution_count": 28,
   "metadata": {},
   "outputs": [
    {
     "name": "stdout",
     "output_type": "stream",
     "text": [
      "[5, 5, 5, 5, 5, 0, 4, 3, 2, 1]\n"
     ]
    }
   ],
   "source": [
    "if __name__==\"__main__\":\n",
    "    holes=[20, 15, 10, 5, 25]\n",
    "    balls=[5, 10, 15, 20, 25, 30, 4, 9, 14, 19]\n",
    "    ball_count=[x for x in range(1,len(holes)+1)]\n",
    "    ball_pos=[0]*len(balls)\n",
    "    for i in range(1,len(balls)+1):\n",
    "        for j in reversed(range(1,len(holes)+1)):\n",
    "            if balls[i-1]<=holes[j-1] and ball_count[j-1]>0:\n",
    "                ball_pos[i-1]=j\n",
    "                ball_count[j-1]-=1\n",
    "                break\n",
    "    print( ball_pos)"
   ]
  },
  {
   "cell_type": "markdown",
   "metadata": {},
   "source": [
    "Given two integers X and Y, the task is to perform the following operations:\n",
    "\n",
    "Find all prime numbers in the range [X, Y].\n",
    "Generate all numbers possible by combining every pair of primes in the given range.\n",
    "Find the prime numbers among all the possible numbers generated above. Calculate the count of primes among them, say N.\n",
    "Print the Nth term of a Fibonacci Series formed by having the smallest and largest primes from the above list as the first two terms of the series."
   ]
  },
  {
   "cell_type": "code",
   "execution_count": 47,
   "metadata": {},
   "outputs": [
    {
     "name": "stdout",
     "output_type": "stream",
     "text": [
      "[2, 3, 5, 7, 11, 13, 17, 19, 23, 29, 31, 37]\n",
      "[2311, 3719, 137, 523, 1931, 23, 37, 293, 1319, 173, 3119, 53, 311, 313, 1723, 317, 193, 3137, 197, 73, 331, 719, 337, 211, 1117, 223, 1123, 229, 2917, 1129, 233, 113, 373, 1913]\n",
      "13158006689\n"
     ]
    }
   ],
   "source": [
    "def isprime(n):\n",
    "    if n>1:\n",
    "        flag=True\n",
    "        for i in range(2,n//2+1):\n",
    "            if n%i==0:\n",
    "                flag= False\n",
    "                break\n",
    "        return flag\n",
    "    else:\n",
    "        return False\n",
    "\n",
    "def fibo(a,b,n):\n",
    "    sum,i=0,1\n",
    "    while i <n-1 :\n",
    "        sum=a+b\n",
    "        a=b\n",
    "        b=sum\n",
    "        i+=1\n",
    "    return b\n",
    "\n",
    "if __name__==\"__main__\":\n",
    "    a=2\n",
    "    b=40\n",
    "    primelist=[x for x in range(a,b+1)] \n",
    "    sequencelist=[]\n",
    "    primelist=list(filter(isprime,primelist))\n",
    "    print(primelist)\n",
    "    sequencelist=[]\n",
    "    for i in range(len(primelist)):\n",
    "        for j in range(len(primelist)):\n",
    "            sequencelist.append(int(str(primelist[i])+str(primelist[j])))\n",
    "    sequencelist=list(set(filter(isprime,sequencelist)))\n",
    "    print(sequencelist)\n",
    "    print(fibo(min(sequencelist),max(sequencelist),len(sequencelist)))"
   ]
  },
  {
   "cell_type": "markdown",
   "metadata": {},
   "source": [
    "Given an array arr[] of N non-negative integers representing height of blocks at index i as Ai where the width of each block is 1. Compute how much water can be trapped in between blocks after raining.\n",
    "Structure is like below:\n",
    "| |\n",
    "|_|\n",
    "We can trap 2 units of water in the middle gap."
   ]
  },
  {
   "cell_type": "code",
   "execution_count": 18,
   "metadata": {},
   "outputs": [
    {
     "data": {
      "text/plain": [
       "10"
      ]
     },
     "execution_count": 18,
     "metadata": {},
     "output_type": "execute_result"
    }
   ],
   "source": [
    "brick=[3,0,0,4,0,4]\n",
    "n=len(brick)\n",
    "l,r=0,n-1\n",
    "water=0\n",
    "right_max=brick[n-1]\n",
    "left_max=brick[0]\n",
    "while l<r:\n",
    "    if brick[l]<brick[r]:\n",
    "        if brick[l]>=left_max:\n",
    "            left_max=brick[l]\n",
    "        else:\n",
    "            water+=left_max-brick[l]\n",
    "        l+=1\n",
    "    else:\n",
    "        if brick[r]>=right_max:\n",
    "            right_max=brick[r]\n",
    "        else:\n",
    "            water+=right_max-brick[r]\n",
    "        r-=1\n",
    "        \n",
    "water"
   ]
  },
  {
   "cell_type": "markdown",
   "metadata": {},
   "source": [
    "Given an array of distinct integers. The task is to count all the triplets such that sum of two elements equals the third element."
   ]
  },
  {
   "cell_type": "code",
   "execution_count": 22,
   "metadata": {},
   "outputs": [
    {
     "data": {
      "text/plain": [
       "9"
      ]
     },
     "execution_count": 22,
     "metadata": {},
     "output_type": "execute_result"
    }
   ],
   "source": [
    "count=0\n",
    "number=[1, 5, 3, 2,1, 5, 3, 2]\n",
    "for x in range(len(number)):\n",
    "    for y in range(x+1,len(number)):\n",
    "        if number[x]+number[y] in number:\n",
    "            count+=1\n",
    "count"
   ]
  },
  {
   "cell_type": "markdown",
   "metadata": {},
   "source": [
    "Given a string in roman no format (s)  your task is to convert it to an integer . Various symbols and their values are given below.\n",
    "I 1\n",
    "V 5\n",
    "X 10\n",
    "L 50\n",
    "C 100\n",
    "D 500\n",
    "M 1000"
   ]
  },
  {
   "cell_type": "code",
   "execution_count": 10,
   "metadata": {},
   "outputs": [
    {
     "data": {
      "text/plain": [
       "668"
      ]
     },
     "execution_count": 10,
     "metadata": {},
     "output_type": "execute_result"
    }
   ],
   "source": [
    "def roman_number(string):\n",
    "    identifier={\"I\":1,\"V\":5,\"X\":10,\"L\":50,\"C\":100,\"D\":500,\"M\":1000}\n",
    "    value=0\n",
    "    for x in string:\n",
    "        value+= identifier[x]\n",
    "    return value\n",
    "roman_number(\"DCLXVIII\")"
   ]
  },
  {
   "cell_type": "markdown",
   "metadata": {},
   "source": [
    "Given an array A of N positive numbers. The task is to find the first Equilibium Point in the array. \n",
    "Equilibrium Point in an array is a position such that the sum of elements before it is equal to the sum of elements after it."
   ]
  },
  {
   "cell_type": "code",
   "execution_count": 12,
   "metadata": {},
   "outputs": [
    {
     "name": "stdout",
     "output_type": "stream",
     "text": [
      "3\n"
     ]
    }
   ],
   "source": [
    "def equilibrium(arr):\n",
    "    for i in range(0,len(arr)):\n",
    "        if sum(arr[:i])==sum(arr[i+1:]):\n",
    "            return i+1\n",
    "            break\n",
    "print(equilibrium([1,3,5,2,2]))"
   ]
  },
  {
   "cell_type": "markdown",
   "metadata": {},
   "source": [
    "Given an array arr[] and a number K where K is smaller than size of array, the task is to find the Kth smallest element in the given array. It is given that all array elements are distinct."
   ]
  },
  {
   "cell_type": "code",
   "execution_count": 20,
   "metadata": {},
   "outputs": [
    {
     "name": "stdout",
     "output_type": "stream",
     "text": [
      "7\n",
      "15\n"
     ]
    }
   ],
   "source": [
    "def smallest(arr,k):\n",
    "    arr.sort()\n",
    "    return arr[k-1]\n",
    "print(smallest([7, 10, 4, 3, 20 ,15],3))\n",
    "print(smallest([7, 10, 4, 20, 15],4))"
   ]
  },
  {
   "cell_type": "markdown",
   "metadata": {},
   "source": [
    "The cost of stock on each day is given in an array A[] of size N. Find all the days on which you buy and sell the stock so that in between those days your profit is maximum.{100,180,260,310,40,535,695}"
   ]
  },
  {
   "cell_type": "code",
   "execution_count": 53,
   "metadata": {},
   "outputs": [
    {
     "name": "stdout",
     "output_type": "stream",
     "text": [
      "[(0, 3), (4, 6)]\n",
      "[(3, 4)]\n"
     ]
    }
   ],
   "source": [
    "def stock(arr):\n",
    "    buy,sell,i=0,0,0\n",
    "    day=[]\n",
    "    while(i< len(arr)-1):\n",
    "        if arr[i]<arr[i+1]:\n",
    "            buy=i\n",
    "            i+=1\n",
    "            while( i<len(arr)-1 and arr[i]<arr[i+1]):\n",
    "                i+=1\n",
    "            sell=i\n",
    "            day.append((buy,sell))\n",
    "        i+=1   \n",
    "    return day\n",
    "print(stock([100,180,260,310,40,535,695]))\n",
    "print(stock([4,2,2,2,4]))\n",
    "        \n",
    "    \n",
    "    "
   ]
  },
  {
   "cell_type": "code",
   "execution_count": 50,
   "metadata": {},
   "outputs": [
    {
     "name": "stdout",
     "output_type": "stream",
     "text": [
      "[(0, 4), (6, 7), (8, 9), (10, 11), (12, 13), (15, 17), (19, 20), (21, 22), (24, 26), (28, 30), (32, 34), (35, 36), (37, 38), (39, 40), (41, 42), (43, 44), (46, 47), (48, 49), (50, 53), (54, 56), (57, 58), (60, 61), (63, 64), (65, 66), (67, 69), (70, 71), (72, 73), (74, 75), (76, 77), (79, 81)]\n"
     ]
    }
   ],
   "source": [
    "a=\"886 2777 6915 7793 8335 5386 492 6649 1421 2362 27 8690 59 7763 3926 540 3426 9172 5736 5211 5368 2567 6429 5782 1530 2862 5123 4067 3135 3929 9802 4022 3058 3069 8167 1393 8456 5011 8042 6229 7373 4421 4919 3784 8537 5198 4324 8315 4370 6413 3526 6091 8980 9956 1873 6862 9170 6996 7281 2305 925 7084 6327 336 6505 846 1729 1313 5857 6124 3895 9582 545 8814 3367 5434 364 4043 3750 1087 6808 7276 7178 5788\"\n",
    "arr=list(map(int,a.split()))\n",
    "print(stock(arr))"
   ]
  },
  {
   "cell_type": "markdown",
   "metadata": {},
   "source": [
    "Find the 15th term of the series?\n",
    "\n",
    "0,0,7,6,14,12,21,18, 28"
   ]
  },
  {
   "cell_type": "code",
   "execution_count": 3,
   "metadata": {},
   "outputs": [
    {
     "name": "stdout",
     "output_type": "stream",
     "text": [
      "14\n"
     ]
    }
   ],
   "source": [
    "a,b=0,0  #sequence is multiple of 7 if position is odd else multiple of 6\n",
    "for i in range(1,5):\n",
    "    if i%2==0:\n",
    "        a=a+7\n",
    "    else:\n",
    "        b=b+6\n",
    "print(a if a%2==0 else b)"
   ]
  },
  {
   "cell_type": "markdown",
   "metadata": {},
   "source": [
    "The program will recieve 3 English words inputs from STDIN\n",
    "\n",
    "These three words will be read one at a time, in three separate line\n",
    "The first word should be changed like all vowels should be replaced by %\n",
    "The second word should be changed like all consonants should be replaced by #\n",
    "The third word should be changed like all char should be converted to upper case\n",
    "Then concatenate the three words and print them"
   ]
  },
  {
   "cell_type": "code",
   "execution_count": 17,
   "metadata": {},
   "outputs": [
    {
     "name": "stdout",
     "output_type": "stream",
     "text": [
      "enter 3 words:apple\n",
      "%ppl%a###eAPPLE\n"
     ]
    }
   ],
   "source": [
    "string=input(\"enter 3 words:\")\n",
    "word=\"\"\n",
    "for x in string:\n",
    "    if x.lower() in ['a','e','i','o','u']:\n",
    "            word+=\"%\"\n",
    "    else:\n",
    "        word+=x\n",
    "for x in string:\n",
    "    if x.lower() not in ['a','e','i','o','u']:\n",
    "            word+=\"#\"\n",
    "    else:\n",
    "        word+=x\n",
    "for x in string:\n",
    "    if x.islower():\n",
    "            word+=x.upper()\n",
    "    else:\n",
    "        word+=x\n",
    "print(word)"
   ]
  },
  {
   "cell_type": "markdown",
   "metadata": {},
   "source": [
    "You have 100 cards, numbered 1 to 100. You distribute them into k piles and collect back the piles in order. For example, if you distribute them into 4 piles, then the first pile will contain the cards numbered 1, 5, 9, … and the 4 th pile will contain the cards numbered 4, 8, 12, …. While collecting back the cards you collect first the last pile, flip it bottom to top, then take the third pile, flip it bottom to top and put the cards on top of the 4th pile and so on. Next round, you distribute the cards into another set of piles and collect in the same manner (last pile first and first pile last).\n",
    "\n",
    "for example->\n",
    "If we have 10 cards, and put them into 2 piles, the order of the cards in the piles (top to bottom) would be 9, 7, 5, 3, 1 and 10, 8, 6, 4, 2\n",
    "We flip the piles to get the order 1, 3, 5, 7, 9 and 2, 4, 6, 8, 10\n",
    "We put the second pile at the bottom and first on top of it to get the deck 1, 3, 5, 7, 9, 2, 4, 6, 8, 10\n",
    "Given the number of rounds (m), the number of piles in each round (ki), you need to write a program to find the Nth card from the top at the end of the final round."
   ]
  },
  {
   "cell_type": "code",
   "execution_count": 61,
   "metadata": {},
   "outputs": [
    {
     "name": "stdout",
     "output_type": "stream",
     "text": [
      "Enter the rounds number, number of piles in each round, position in each round2 2 2 4\n",
      "[[1, 3, 5, 7, 9, 11, 13, 15, 17, 19, 21, 23, 25, 27, 29, 31, 33, 35, 37, 39, 41, 43, 45, 47, 49, 51, 53, 55, 57, 59, 61, 63, 65, 67, 69, 71, 73, 75, 77, 79, 81, 83, 85, 87, 89, 91, 93, 95, 97, 99], [2, 4, 6, 8, 10, 12, 14, 16, 18, 20, 22, 24, 26, 28, 30, 32, 34, 36, 38, 40, 42, 44, 46, 48, 50, 52, 54, 56, 58, 60, 62, 64, 66, 68, 70, 72, 74, 76, 78, 80, 82, 84, 86, 88, 90, 92, 94, 96, 98, 100]]\n",
      "[1, 3, 5, 7, 9, 11, 13, 15, 17, 19, 21, 23, 25, 27, 29, 31, 33, 35, 37, 39, 41, 43, 45, 47, 49, 51, 53, 55, 57, 59, 61, 63, 65, 67, 69, 71, 73, 75, 77, 79, 81, 83, 85, 87, 89, 91, 93, 95, 97, 99, 2, 4, 6, 8, 10, 12, 14, 16, 18, 20, 22, 24, 26, 28, 30, 32, 34, 36, 38, 40, 42, 44, 46, 48, 50, 52, 54, 56, 58, 60, 62, 64, 66, 68, 70, 72, 74, 76, 78, 80, 82, 84, 86, 88, 90, 92, 94, 96, 98, 100]\n",
      "[[1, 5, 9, 13, 17, 21, 25, 29, 33, 37, 41, 45, 49, 53, 57, 61, 65, 69, 73, 77, 81, 85, 89, 93, 97, 2, 6, 10, 14, 18, 22, 26, 30, 34, 38, 42, 46, 50, 54, 58, 62, 66, 70, 74, 78, 82, 86, 90, 94, 98], [3, 7, 11, 15, 19, 23, 27, 31, 35, 39, 43, 47, 51, 55, 59, 63, 67, 71, 75, 79, 83, 87, 91, 95, 99, 4, 8, 12, 16, 20, 24, 28, 32, 36, 40, 44, 48, 52, 56, 60, 64, 68, 72, 76, 80, 84, 88, 92, 96, 100]]\n",
      "[1, 5, 9, 13, 17, 21, 25, 29, 33, 37, 41, 45, 49, 53, 57, 61, 65, 69, 73, 77, 81, 85, 89, 93, 97, 2, 6, 10, 14, 18, 22, 26, 30, 34, 38, 42, 46, 50, 54, 58, 62, 66, 70, 74, 78, 82, 86, 90, 94, 98, 3, 7, 11, 15, 19, 23, 27, 31, 35, 39, 43, 47, 51, 55, 59, 63, 67, 71, 75, 79, 83, 87, 91, 95, 99, 4, 8, 12, 16, 20, 24, 28, 32, 36, 40, 44, 48, 52, 56, 60, 64, 68, 72, 76, 80, 84, 88, 92, 96, 100]\n",
      "13\n"
     ]
    }
   ],
   "source": [
    "def suffle(arr, piles,loc):\n",
    "    pil=[]\n",
    "    new=[]\n",
    "    for i in range(1, piles+1):\n",
    "        pil.append([x for x in arr[i-1::piles]])\n",
    "    print(pil)\n",
    "    for x in pil:\n",
    "        for y in x:\n",
    "            new.append(y)\n",
    "    print(new)\n",
    "    return new[loc-1],new\n",
    "\n",
    "if __name__==\"__main__\":\n",
    "    arr=list(range(1,101))\n",
    "    data=input(\"Enter the rounds number, number of piles in each round, position in each round\").split()\n",
    "    round=int(data[0])\n",
    "    piles=list(map(int,data[1:round+1]))\n",
    "    position=int(data[round+1])\n",
    "    for i in range(round):\n",
    "        pos,arr=suffle(arr,piles[i],position)\n",
    "        \n",
    "    print( pos)\n",
    " # for input 3 2 2 3 2 and 2 2 2 4 output shall be 13   "
   ]
  },
  {
   "cell_type": "markdown",
   "metadata": {},
   "source": [
    "Hobo’s Drawing teacher asks his class to open their books to a page number. Hobo can either start turning pages from the front of the book or from the back of the book. He always turns pages one at a time. When she opens the book, page 1 is always on the right side: When he flips page 1, he sees pages 2 and 3. Each page except the last page will always be printed on both sides. The last page may only be printed on the front, given the length of the book. If the book is n pages long, and he wants to turn to page p, what is the minimum number of pages he will turn? He can start at the beginning or the end of the book. Given n and p, find and print the minimum number of pages Hobo must turn in order to arrive at page p"
   ]
  },
  {
   "cell_type": "code",
   "execution_count": 19,
   "metadata": {},
   "outputs": [
    {
     "name": "stdout",
     "output_type": "stream",
     "text": [
      "Enter no. of total pages in books and page number to go11 10\n",
      "1\n"
     ]
    }
   ],
   "source": [
    "def book(page, page_open):\n",
    "    turn=0\n",
    "    if page%2==0:\n",
    "        if page_open<=page//2:\n",
    "            turn=page_open//2\n",
    "        else:\n",
    "            turn=page//2 - page_open//2\n",
    "    else:\n",
    "        if page_open<=page//2:\n",
    "            turn=page_open//2\n",
    "        else:\n",
    "            turn=page//2 - page_open//2 +1\n",
    "    return turn\n",
    "\n",
    "if __name__==\"__main__\":\n",
    "    data=list(map(int,input(\"Enter no. of total pages in books and page number to go\").split()))\n",
    "    total=data[0]\n",
    "    page=data[1]\n",
    "    print(book(total, page))"
   ]
  },
  {
   "cell_type": "markdown",
   "metadata": {},
   "source": [
    "Chacha is playing an arcade game and wants to climb to the top of the leader board and wants to track her ranking. The game uses Dense Ranking so its leader board works like this:\n",
    "\n",
    "The player with the highest score is ranked number 1 on the leader board.\n",
    "Players who have equal scores receive the same ranking number, and the next player(s) receive the immediately following ranking number.\n",
    "For example, the four players on the leader board have high scores of 100, 90, 90, and 80. Those players will have ranks 1, 2, 2, and 3, respectively. If Chacha’s scores are 70, 80 and 105, her rankings after each game are 4th, 3rd and 1st."
   ]
  },
  {
   "cell_type": "markdown",
   "metadata": {},
   "source": [
    "Input Format\n",
    "\n",
    "The first line contains an integer n, the number of players on the leaderboard.\n",
    "The next line contains n space-separated integers scores[i], the leaderboard scores in decreasing order.\n",
    "The next line contains an integer, m, denoting the number games Chacha plays.\n",
    "The last line contains m space-separated integers chacha[j], the game scores."
   ]
  },
  {
   "cell_type": "code",
   "execution_count": 40,
   "metadata": {},
   "outputs": [
    {
     "name": "stdout",
     "output_type": "stream",
     "text": [
      "[100, 50, 40, 20, 10]\n",
      "[6, 4, 2, 1]\n"
     ]
    }
   ],
   "source": [
    "#Beta\n",
    "def ladder(player_score, chacha_score):\n",
    "    player_score=sorted(set(player_score),reverse=True)\n",
    "    print(player_score)\n",
    "    chacha_rank=[]\n",
    "    for x in chacha_score:\n",
    "        rank=len(player_score)\n",
    "        for y in player_score:\n",
    "            if x>=y:\n",
    "                rank=player_score.index(y)\n",
    "                break\n",
    "        chacha_rank.append(rank+1)        \n",
    "    return chacha_rank\n",
    "\n",
    "if __name__==\"__main__\":\n",
    "    print(ladder([100, 100, 50, 40, 40, 20, 10],[5, 25, 50, 120]))"
   ]
  },
  {
   "cell_type": "markdown",
   "metadata": {},
   "source": [
    "You will be given an array of integers and a target value. Determine the number of pairs of array elements that have a difference equal to a target value.\n",
    "\n",
    "For example, given an array of [1, 2, 3, 4] and a target value of 1, we have three values meeting the condition: 2-1 = 1, 3-2 = 1, and 4-3 = 1."
   ]
  },
  {
   "cell_type": "code",
   "execution_count": 50,
   "metadata": {},
   "outputs": [
    {
     "name": "stdout",
     "output_type": "stream",
     "text": [
      "2\n"
     ]
    }
   ],
   "source": [
    "def target(arr, target):\n",
    "    n=len(arr)\n",
    "    count=0\n",
    "    for i in arr[:n]:\n",
    "        for j in arr[i+1:]:\n",
    "            if j-i==target:\n",
    "                count+=1\n",
    "    return count\n",
    "print(target([1, 5, 3, 4, 2],2))"
   ]
  },
  {
   "cell_type": "markdown",
   "metadata": {},
   "source": []
  },
  {
   "cell_type": "code",
   "execution_count": 11,
   "metadata": {},
   "outputs": [
    {
     "name": "stdout",
     "output_type": "stream",
     "text": [
      "enter the numbers1 2 3 4 5 6\n",
      "[2, 1, 4, 3, 6, 5]\n"
     ]
    }
   ],
   "source": [
    "def swap(ls):\n",
    "    ls1=ls[::2]\n",
    "    for i in range(len(ls)):\n",
    "        if i%2==0:\n",
    "            ls[i]=ls[i+1]\n",
    "        else:\n",
    "            ls[i]=ls1[i//2]\n",
    "    return ls\n",
    "    \n",
    "if __name__==\"__main__\":\n",
    "    ls=list(map(int, input(\"enter the numbers\").split()))\n",
    "    if len(ls)%2==0:\n",
    "        print(swap(ls))\n",
    "        \n",
    "    else:\n",
    "        print('Please enter even digits')"
   ]
  },
  {
   "cell_type": "code",
   "execution_count": 4,
   "metadata": {},
   "outputs": [
    {
     "data": {
      "text/plain": [
       "[1, 3, 5, 7]"
      ]
     },
     "execution_count": 4,
     "metadata": {},
     "output_type": "execute_result"
    }
   ],
   "source": [
    "if __name__==\"__main__\":\n",
    "    ls=list(map(int, input(\"enter the numbers\").split()))\n",
    "    if len(ls)%2==0:\n",
    "        ls1=ls[::2]\n",
    "        print(ls1)\n",
    "        for i in range(len(ls)):\n",
    "            if i%2==0:\n",
    "                ls[i]=ls[i+1]\n",
    "            else:\n",
    "                ls[i]=ls1[i//2]\n",
    "        print(ls)\n",
    "    else:\n",
    "        print('Please enter even digits')\n"
   ]
  },
  {
   "cell_type": "code",
   "execution_count": 34,
   "metadata": {},
   "outputs": [
    {
     "name": "stdout",
     "output_type": "stream",
     "text": [
      "enter numbers1 2 3 4 5 6 7 8\n"
     ]
    },
    {
     "ename": "IndexError",
     "evalue": "list index out of range",
     "output_type": "error",
     "traceback": [
      "\u001b[1;31m---------------------------------------------------------------------------\u001b[0m",
      "\u001b[1;31mIndexError\u001b[0m                                Traceback (most recent call last)",
      "\u001b[1;32m<ipython-input-34-9499231571ff>\u001b[0m in \u001b[0;36m<module>\u001b[1;34m\u001b[0m\n\u001b[0;32m      7\u001b[0m \u001b[1;33m\u001b[0m\u001b[0m\n\u001b[0;32m      8\u001b[0m \u001b[0mls\u001b[0m\u001b[1;33m=\u001b[0m\u001b[0mlist\u001b[0m\u001b[1;33m(\u001b[0m\u001b[0mmap\u001b[0m\u001b[1;33m(\u001b[0m\u001b[0mint\u001b[0m\u001b[1;33m,\u001b[0m\u001b[0minput\u001b[0m\u001b[1;33m(\u001b[0m\u001b[1;34m\"enter numbers\"\u001b[0m\u001b[1;33m)\u001b[0m\u001b[1;33m.\u001b[0m\u001b[0msplit\u001b[0m\u001b[1;33m(\u001b[0m\u001b[1;33m)\u001b[0m\u001b[1;33m)\u001b[0m\u001b[1;33m)\u001b[0m\u001b[1;33m\u001b[0m\u001b[1;33m\u001b[0m\u001b[0m\n\u001b[1;32m----> 9\u001b[1;33m \u001b[0mprint\u001b[0m\u001b[1;33m(\u001b[0m\u001b[0mswapo\u001b[0m\u001b[1;33m(\u001b[0m\u001b[0mls\u001b[0m\u001b[1;33m)\u001b[0m\u001b[1;33m)\u001b[0m\u001b[1;33m\u001b[0m\u001b[1;33m\u001b[0m\u001b[0m\n\u001b[0m",
      "\u001b[1;32m<ipython-input-34-9499231571ff>\u001b[0m in \u001b[0;36mswapo\u001b[1;34m(ls)\u001b[0m\n\u001b[0;32m      1\u001b[0m \u001b[1;32mdef\u001b[0m \u001b[0mswapo\u001b[0m\u001b[1;33m(\u001b[0m\u001b[0mls\u001b[0m\u001b[1;33m)\u001b[0m\u001b[1;33m:\u001b[0m\u001b[1;33m\u001b[0m\u001b[1;33m\u001b[0m\u001b[0m\n\u001b[0;32m      2\u001b[0m     \u001b[1;32mfor\u001b[0m \u001b[0mi\u001b[0m \u001b[1;32min\u001b[0m \u001b[0mrange\u001b[0m\u001b[1;33m(\u001b[0m\u001b[1;36m0\u001b[0m\u001b[1;33m,\u001b[0m\u001b[0mlen\u001b[0m\u001b[1;33m(\u001b[0m\u001b[0mls\u001b[0m\u001b[1;33m)\u001b[0m\u001b[1;33m+\u001b[0m\u001b[1;36m1\u001b[0m\u001b[1;33m,\u001b[0m\u001b[1;36m2\u001b[0m\u001b[1;33m)\u001b[0m\u001b[1;33m:\u001b[0m\u001b[1;33m\u001b[0m\u001b[1;33m\u001b[0m\u001b[0m\n\u001b[1;32m----> 3\u001b[1;33m         \u001b[0mdata\u001b[0m\u001b[1;33m=\u001b[0m\u001b[0mls\u001b[0m\u001b[1;33m[\u001b[0m\u001b[0mi\u001b[0m\u001b[1;33m]\u001b[0m\u001b[1;33m\u001b[0m\u001b[1;33m\u001b[0m\u001b[0m\n\u001b[0m\u001b[0;32m      4\u001b[0m         \u001b[0mls\u001b[0m\u001b[1;33m[\u001b[0m\u001b[0mi\u001b[0m\u001b[1;33m]\u001b[0m\u001b[1;33m=\u001b[0m\u001b[0mls\u001b[0m\u001b[1;33m[\u001b[0m\u001b[0mi\u001b[0m\u001b[1;33m+\u001b[0m\u001b[1;36m1\u001b[0m\u001b[1;33m]\u001b[0m\u001b[1;33m\u001b[0m\u001b[1;33m\u001b[0m\u001b[0m\n\u001b[0;32m      5\u001b[0m         \u001b[0mls\u001b[0m\u001b[1;33m[\u001b[0m\u001b[0mi\u001b[0m\u001b[1;33m+\u001b[0m\u001b[1;36m1\u001b[0m\u001b[1;33m]\u001b[0m\u001b[1;33m=\u001b[0m\u001b[0mdata\u001b[0m\u001b[1;33m\u001b[0m\u001b[1;33m\u001b[0m\u001b[0m\n",
      "\u001b[1;31mIndexError\u001b[0m: list index out of range"
     ]
    }
   ],
   "source": [
    "def swapo(ls):\n",
    "    if len(ls)%2==0:\n",
    "        for i in range(0,len(ls),2):\n",
    "            data=ls[i]\n",
    "            ls[i]=ls[i+1]\n",
    "            ls[i+1]=data\n",
    "    else:\n",
    "        for i in range(0,len(ls)-1,2):\n",
    "            data=ls[i]\n",
    "            ls[i]=ls[i+1]\n",
    "            ls[i+1]=data\n",
    "    return ls\n",
    "\n",
    "ls=list(map(int,input(\"enter numbers\").split()))\n",
    "print(swapo(ls))"
   ]
  },
  {
   "cell_type": "code",
   "execution_count": 13,
   "metadata": {
    "scrolled": true
   },
   "outputs": [
    {
     "name": "stdout",
     "output_type": "stream",
     "text": [
      "assbslwe23\n"
     ]
    }
   ],
   "source": [
    "text='as7sb56slwe23'\n",
    "for i in range(len(text)):\n",
    "    if '7' in text:\n",
    "        text=text.replace('7',\"\")\n",
    "    elif '56' in text:\n",
    "        text=text.replace('56',\"\")\n",
    "print(text)"
   ]
  },
  {
   "cell_type": "code",
   "execution_count": 56,
   "metadata": {
    "scrolled": true
   },
   "outputs": [
    {
     "ename": "IndexError",
     "evalue": "string index out of range",
     "output_type": "error",
     "traceback": [
      "\u001b[1;31m---------------------------------------------------------------------------\u001b[0m",
      "\u001b[1;31mIndexError\u001b[0m                                Traceback (most recent call last)",
      "\u001b[1;32m<ipython-input-56-be3ee50d929c>\u001b[0m in \u001b[0;36m<module>\u001b[1;34m\u001b[0m\n\u001b[0;32m      5\u001b[0m     \u001b[1;32mif\u001b[0m \u001b[0mi\u001b[0m\u001b[1;33m!=\u001b[0m\u001b[0mlen\u001b[0m\u001b[1;33m(\u001b[0m\u001b[0mtext\u001b[0m\u001b[1;33m)\u001b[0m \u001b[1;32mand\u001b[0m \u001b[0mtext\u001b[0m\u001b[1;33m[\u001b[0m\u001b[0mi\u001b[0m\u001b[1;33m]\u001b[0m\u001b[1;33m==\u001b[0m\u001b[1;34m'7'\u001b[0m\u001b[1;33m:\u001b[0m\u001b[1;33m\u001b[0m\u001b[1;33m\u001b[0m\u001b[0m\n\u001b[0;32m      6\u001b[0m         \u001b[0mi\u001b[0m\u001b[1;33m=\u001b[0m\u001b[0mi\u001b[0m\u001b[1;33m+\u001b[0m\u001b[1;36m1\u001b[0m\u001b[1;33m\u001b[0m\u001b[1;33m\u001b[0m\u001b[0m\n\u001b[1;32m----> 7\u001b[1;33m     \u001b[1;32melif\u001b[0m \u001b[0mi\u001b[0m\u001b[1;33m!=\u001b[0m\u001b[0mlen\u001b[0m\u001b[1;33m(\u001b[0m\u001b[0mtext\u001b[0m\u001b[1;33m)\u001b[0m \u001b[1;32mand\u001b[0m \u001b[0mtext\u001b[0m\u001b[1;33m[\u001b[0m\u001b[0mi\u001b[0m\u001b[1;33m]\u001b[0m\u001b[1;33m==\u001b[0m\u001b[1;34m'5'\u001b[0m \u001b[1;32mand\u001b[0m \u001b[0mtext\u001b[0m\u001b[1;33m[\u001b[0m\u001b[0mi\u001b[0m\u001b[1;33m+\u001b[0m\u001b[1;36m1\u001b[0m\u001b[1;33m]\u001b[0m\u001b[1;33m==\u001b[0m\u001b[1;34m'6'\u001b[0m\u001b[1;33m:\u001b[0m\u001b[1;33m\u001b[0m\u001b[1;33m\u001b[0m\u001b[0m\n\u001b[0m\u001b[0;32m      8\u001b[0m         \u001b[0mi\u001b[0m\u001b[1;33m=\u001b[0m\u001b[0mi\u001b[0m\u001b[1;33m+\u001b[0m\u001b[1;36m2\u001b[0m\u001b[1;33m\u001b[0m\u001b[1;33m\u001b[0m\u001b[0m\n\u001b[0;32m      9\u001b[0m     \u001b[1;32melse\u001b[0m\u001b[1;33m:\u001b[0m\u001b[1;33m\u001b[0m\u001b[1;33m\u001b[0m\u001b[0m\n",
      "\u001b[1;31mIndexError\u001b[0m: string index out of range"
     ]
    }
   ],
   "source": [
    "text='as7sb56slwe25'\n",
    "out=\"\"\n",
    "i=0\n",
    "while (i<len(text)):\n",
    "    if i!=len(text) and text[i]=='7':\n",
    "        i=i+1\n",
    "    elif i!=len(text) and text[i]=='5' and text[i+1]=='6':\n",
    "        i=i+2\n",
    "    else:\n",
    "        out=out+text[i]\n",
    "        i=i+1\n",
    "print(out)"
   ]
  },
  {
   "cell_type": "code",
   "execution_count": 9,
   "metadata": {},
   "outputs": [
    {
     "name": "stdout",
     "output_type": "stream",
     "text": [
      "4\n",
      "assbs34lwe23\n"
     ]
    }
   ],
   "source": [
    "text='as7s7b56s34lw7e56256563'\n",
    "m=max(text.count(\"7\"),text.count('56'))\n",
    "print(m)\n",
    "for i in range(m):\n",
    "    if '7' in text:\n",
    "        text=text.replace('7','')\n",
    "    if '56' in text:\n",
    "        text=text.replace('56','')\n",
    "print(text)"
   ]
  },
  {
   "cell_type": "code",
   "execution_count": 10,
   "metadata": {},
   "outputs": [
    {
     "ename": "IndexError",
     "evalue": "list index out of range",
     "output_type": "error",
     "traceback": [
      "\u001b[1;31m---------------------------------------------------------------------------\u001b[0m",
      "\u001b[1;31mIndexError\u001b[0m                                Traceback (most recent call last)",
      "\u001b[1;32m<ipython-input-10-191e533535a3>\u001b[0m in \u001b[0;36m<module>\u001b[1;34m\u001b[0m\n\u001b[0;32m      4\u001b[0m \u001b[1;32mwhile\u001b[0m\u001b[1;33m(\u001b[0m\u001b[0mi\u001b[0m\u001b[1;33m<\u001b[0m\u001b[0mlen\u001b[0m\u001b[1;33m(\u001b[0m\u001b[0mdata\u001b[0m\u001b[1;33m)\u001b[0m\u001b[1;33m)\u001b[0m\u001b[1;33m:\u001b[0m\u001b[1;33m\u001b[0m\u001b[1;33m\u001b[0m\u001b[0m\n\u001b[0;32m      5\u001b[0m     \u001b[0msums\u001b[0m\u001b[1;33m=\u001b[0m\u001b[0mdata\u001b[0m\u001b[1;33m[\u001b[0m\u001b[0mi\u001b[0m\u001b[1;33m-\u001b[0m\u001b[1;36m1\u001b[0m\u001b[1;33m]\u001b[0m\u001b[1;33m\u001b[0m\u001b[1;33m\u001b[0m\u001b[0m\n\u001b[1;32m----> 6\u001b[1;33m     \u001b[1;32mwhile\u001b[0m\u001b[1;33m(\u001b[0m\u001b[0mdata\u001b[0m\u001b[1;33m[\u001b[0m\u001b[0mi\u001b[0m\u001b[1;33m-\u001b[0m\u001b[1;36m1\u001b[0m\u001b[1;33m]\u001b[0m\u001b[1;33m<=\u001b[0m\u001b[0mdata\u001b[0m\u001b[1;33m[\u001b[0m\u001b[0mi\u001b[0m\u001b[1;33m]\u001b[0m\u001b[1;33m)\u001b[0m\u001b[1;33m:\u001b[0m\u001b[1;33m\u001b[0m\u001b[1;33m\u001b[0m\u001b[0m\n\u001b[0m\u001b[0;32m      7\u001b[0m         \u001b[0msums\u001b[0m\u001b[1;33m+=\u001b[0m\u001b[0mdata\u001b[0m\u001b[1;33m[\u001b[0m\u001b[0mi\u001b[0m\u001b[1;33m]\u001b[0m\u001b[1;33m\u001b[0m\u001b[1;33m\u001b[0m\u001b[0m\n\u001b[0;32m      8\u001b[0m         \u001b[0mi\u001b[0m\u001b[1;33m+=\u001b[0m\u001b[1;36m1\u001b[0m\u001b[1;33m\u001b[0m\u001b[1;33m\u001b[0m\u001b[0m\n",
      "\u001b[1;31mIndexError\u001b[0m: list index out of range"
     ]
    }
   ],
   "source": [
    "data=[2,200,2,3,500,7,8]\n",
    "i=1\n",
    "total=[]\n",
    "while(i<len(data)):\n",
    "    sums=data[i-1]\n",
    "    while(data[i-1]<=data[i]):\n",
    "        sums+=data[i]\n",
    "        i+=1\n",
    "    total.append(sums)\n",
    "    i+=1    \n",
    "print(total)"
   ]
  },
  {
   "cell_type": "code",
   "execution_count": 21,
   "metadata": {},
   "outputs": [
    {
     "name": "stdout",
     "output_type": "stream",
     "text": [
      "505\n"
     ]
    }
   ],
   "source": [
    "data=[2,200,2,3,500,7,8]\n",
    "sums=data[0]\n",
    "total=[]\n",
    "for i in range(1,len(data)):\n",
    "    if data[i]>=data[i-1]:\n",
    "        sums+=data[i]\n",
    "    else:\n",
    "        total.append(sums)\n",
    "        sums=data[i]\n",
    "total.append(sums)\n",
    "print(max(total))\n",
    "    "
   ]
  },
  {
   "cell_type": "code",
   "execution_count": 4,
   "metadata": {},
   "outputs": [
    {
     "name": "stdout",
     "output_type": "stream",
     "text": [
      "86\n",
      "0\n"
     ]
    }
   ],
   "source": [
    "def stock(arr):\n",
    "    buy,sell,i=0,0,0\n",
    "    day=[]\n",
    "    while(i< len(arr)-1):\n",
    "        if arr[i]<arr[i+1]:\n",
    "            buy=arr[i]\n",
    "            i+=1\n",
    "            while( i<len(arr)-1 and arr[i]<arr[i+1]):\n",
    "                i+=1\n",
    "            sell=arr[i]\n",
    "            day.append((sell-buy))\n",
    "        else:\n",
    "            day.append((0))\n",
    "        i+=1   \n",
    "    return max(day)\n",
    "print(stock([10,22,96,14,25,35,45,32,75,84]))\n",
    "print(stock([10,9,8,7,6,5,4,3,2,1]))"
   ]
  },
  {
   "cell_type": "code",
   "execution_count": 7,
   "metadata": {},
   "outputs": [
    {
     "name": "stdout",
     "output_type": "stream",
     "text": [
      "{'AANANAS', 'ANANA', 'AANA', 'B', 'AS', 'BAANANAS', 'NAS', 'ANAN', 'AANANA', 'N', 'S', 'BAANAN', 'AAN', 'NA', 'ANANAS', 'BAANA', 'BA', 'BAANANA', 'ANA', 'AANAN', 'BAAN', 'AA', 'NANAS', 'AN', 'ANAS', 'NAN', 'BAA', 'NANA', 'A'}\n",
      "Kelvin 18\n"
     ]
    }
   ],
   "source": [
    "def minion_game(string):\n",
    "    kelvin=0\n",
    "    stuart=0\n",
    "    sublist=set()\n",
    "    for i in range(len(string)):\n",
    "        for j in range(i+1,len(string)+1):\n",
    "            sublist.add(string[i:j])\n",
    "    print(sublist)\n",
    "    for x in sublist:\n",
    "        if x[0] in ['A','E','I','O','U']:\n",
    "            kelvin+=string.count(x)\n",
    "        else:\n",
    "            stuart+=string.count(x)        \n",
    "    if(kelvin==stuart):\n",
    "        print(\"Draw\")\n",
    "    elif (kelvin>stuart):\n",
    "        print( \"Kelvin {}\".format(kelvin))\n",
    "    else:\n",
    "        print( \"Stuart {}\".format(stuart))\n",
    "minion_game('BAANANAS')"
   ]
  },
  {
   "cell_type": "code",
   "execution_count": 29,
   "metadata": {},
   "outputs": [
    {
     "data": {
      "text/plain": [
       "'asdfhssdfkjsfslkfjs6'"
      ]
     },
     "execution_count": 29,
     "metadata": {},
     "output_type": "execute_result"
    }
   ],
   "source": [
    "#tcs digital question to remove 7 and 56 from a given string.\n",
    "def strrr(string):\n",
    "    for i in range(len(string)):\n",
    "        if '7' in string  :\n",
    "            string=string.replace('7','')\n",
    "        if '56' in string:\n",
    "            string=string.replace('56',\"\")\n",
    "    return string\n",
    "strrr(\"asdfhs7sdfkjsf56slkfjs6\")"
   ]
  },
  {
   "cell_type": "code",
   "execution_count": 30,
   "metadata": {},
   "outputs": [
    {
     "name": "stdout",
     "output_type": "stream",
     "text": [
      "3\n"
     ]
    }
   ],
   "source": [
    "def string_compare(string1,string2):\n",
    "    count=0\n",
    "    for x in set(string1):\n",
    "        count+=string2.count(x)\n",
    "    min_step=max(len(string1),len(string2))-count\n",
    "    print(min_step)\n",
    "\n",
    "string_compare('morning', 'bring')"
   ]
  },
  {
   "cell_type": "code",
   "execution_count": 29,
   "metadata": {},
   "outputs": [
    {
     "data": {
      "text/plain": [
       "4"
      ]
     },
     "execution_count": 29,
     "metadata": {},
     "output_type": "execute_result"
    }
   ],
   "source": [
    "#return number of characters that are in both strings.\n",
    "def matched(string1,string2):\n",
    "    count=0\n",
    "    for x in set(string1):\n",
    "        count+=string2.count(x)\n",
    "    return count\n",
    "matched('morning','evening')"
   ]
  },
  {
   "cell_type": "code",
   "execution_count": 3,
   "metadata": {},
   "outputs": [
    {
     "data": {
      "text/plain": [
       "'shashi sharma is good!'"
      ]
     },
     "execution_count": 3,
     "metadata": {},
     "output_type": "execute_result"
    }
   ],
   "source": [
    "\" \".join(['shashi','sharma', 'is', 'good!'])"
   ]
  },
  {
   "cell_type": "code",
   "execution_count": 16,
   "metadata": {},
   "outputs": [
    {
     "data": {
      "text/plain": [
       "'a'"
      ]
     },
     "execution_count": 16,
     "metadata": {},
     "output_type": "execute_result"
    }
   ],
   "source": [
    "a='shashi sharmaa'\n",
    "def max_char(a):\n",
    "    max_count=max([a.count(x) for x in a])\n",
    "    for x in a:\n",
    "        if a.count(x)==max_count:\n",
    "            char=x\n",
    "    return char\n",
    "max_char(a)"
   ]
  },
  {
   "cell_type": "code",
   "execution_count": 31,
   "metadata": {},
   "outputs": [
    {
     "name": "stdout",
     "output_type": "stream",
     "text": [
      "True\n"
     ]
    }
   ],
   "source": [
    "#Check whether two strings are anagram of each other or not.\n",
    "def anagram(string1,string2):\n",
    "    return set(string1)==set(string2) and len(string1)==len(string2)\n",
    "print(anagram('army', 'mary'))"
   ]
  },
  {
   "cell_type": "code",
   "execution_count": 61,
   "metadata": {},
   "outputs": [
    {
     "data": {
      "text/plain": [
       "'shash'"
      ]
     },
     "execution_count": 61,
     "metadata": {},
     "output_type": "execute_result"
    }
   ],
   "source": [
    "#Remove a given character from a string.\n",
    "def remove(string,char):\n",
    "    for i in range(string.count(char)):\n",
    "        string=string.replace(char,\"\")\n",
    "    return string\n",
    "remove('shaishi','i')"
   ]
  },
  {
   "cell_type": "code",
   "execution_count": 59,
   "metadata": {},
   "outputs": [
    {
     "data": {
      "text/plain": [
       "{'shashi': 2, 'sharma': 1, 'friend': 2, 'is': 1, 'good': 1}"
      ]
     },
     "execution_count": 59,
     "metadata": {},
     "output_type": "execute_result"
    }
   ],
   "source": [
    "#count the number of words in string.\n",
    "def wordcounter(string):\n",
    "    wordlist={x:string.count(x) for x in string.split()}\n",
    "    return wordlist\n",
    "wordcounter('shashi sharma friend shashi is good friend')"
   ]
  },
  {
   "cell_type": "code",
   "execution_count": 2,
   "metadata": {},
   "outputs": [
    {
     "data": {
      "text/plain": [
       "True"
      ]
     },
     "execution_count": 2,
     "metadata": {},
     "output_type": "execute_result"
    }
   ],
   "source": [
    "#check if a given string has valid parenthesis, like [{()}],()[] are valid not {[}]\n",
    "\n",
    "def parenthesis(string):\n",
    "    paren=[]\n",
    "    flag=True\n",
    "    for x in string:\n",
    "        if x in ['[','{','(']:\n",
    "            paren.append(x)\n",
    "        if x in [']','}',')']:\n",
    "            char=paren.pop()\n",
    "            if not ord(x)-ord(char)<=2:\n",
    "                flag=False\n",
    "                break\n",
    "    return flag and len(paren)==0\n",
    "parenthesis(\"(please inter the number)[]\")"
   ]
  },
  {
   "cell_type": "code",
   "execution_count": 4,
   "metadata": {},
   "outputs": [
    {
     "data": {
      "text/plain": [
       "(2, 4)"
      ]
     },
     "execution_count": 4,
     "metadata": {},
     "output_type": "execute_result"
    }
   ],
   "source": [
    "#count number of vowels and consonant in a string.\n",
    "def counter(string):\n",
    "    vowel,consonant=0,0\n",
    "    for x in string.lower():\n",
    "        if x.isalpha():\n",
    "            if x in ['a','e','i','o','u']:\n",
    "                vowel+=1\n",
    "            else:\n",
    "                consonant+=1\n",
    "    return (vowel,consonant)\n",
    "counter('shashi')"
   ]
  },
  {
   "cell_type": "code",
   "execution_count": 22,
   "metadata": {},
   "outputs": [],
   "source": [
    "arr=[10,22,96,14,25,35,45,32,25,24]"
   ]
  },
  {
   "cell_type": "code",
   "execution_count": 35,
   "metadata": {},
   "outputs": [
    {
     "data": {
      "text/plain": [
       "[128, 119, 32, 25, 24]"
      ]
     },
     "execution_count": 35,
     "metadata": {},
     "output_type": "execute_result"
    }
   ],
   "source": [
    "#return max sum of increasing sequences only\n",
    "def max_sum(arr):\n",
    "    i=0\n",
    "    sumlist=[]\n",
    "    while(i<len(arr)):\n",
    "        sums=arr[i]\n",
    "        i+=1\n",
    "        while(i<len(arr) and arr[i]>arr[i-1]):\n",
    "            sums+=arr[i]\n",
    "            i+=1\n",
    "        sumlist.append(sums)  \n",
    "    return sumlist\n",
    "\n",
    "max_sum(arr)\n",
    "        \n",
    "            "
   ]
  },
  {
   "cell_type": "code",
   "execution_count": 26,
   "metadata": {},
   "outputs": [
    {
     "data": {
      "text/plain": [
       "191"
      ]
     },
     "execution_count": 26,
     "metadata": {},
     "output_type": "execute_result"
    }
   ],
   "source": [
    "sum([32,75,84])"
   ]
  },
  {
   "cell_type": "code",
   "execution_count": null,
   "metadata": {},
   "outputs": [],
   "source": []
  }
 ],
 "metadata": {
  "kernelspec": {
   "display_name": "Python 3",
   "language": "python",
   "name": "python3"
  },
  "language_info": {
   "codemirror_mode": {
    "name": "ipython",
    "version": 3
   },
   "file_extension": ".py",
   "mimetype": "text/x-python",
   "name": "python",
   "nbconvert_exporter": "python",
   "pygments_lexer": "ipython3",
   "version": "3.7.3"
  }
 },
 "nbformat": 4,
 "nbformat_minor": 2
}
