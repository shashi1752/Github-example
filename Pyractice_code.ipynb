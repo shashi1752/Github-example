{
 "cells": [
  {
   "cell_type": "code",
   "execution_count": 11,
   "metadata": {},
   "outputs": [
    {
     "name": "stdout",
     "output_type": "stream",
     "text": [
      "shashi sharma\n"
     ]
    }
   ],
   "source": [
    "#Code for copying a string without using string functions.\n",
    "def new(s1, s2):\n",
    "    for i in range(len(s1)):\n",
    "        s2[i]=s1[i]\n",
    "name1=\"shashi sharma\"\n",
    "name2=[\"\"]*len(name1)# used to make list of len(name1) spaces.\n",
    "new(name1, name2)\n",
    "\n",
    "print(\"\".join(name2)) # used to join lists with specified character."
   ]
  },
  {
   "cell_type": "code",
   "execution_count": 48,
   "metadata": {},
   "outputs": [
    {
     "name": "stdout",
     "output_type": "stream",
     "text": [
      "Pangram\n"
     ]
    }
   ],
   "source": [
    "#Code to check whether a sentence is pangram or not\n",
    "text=\"A quick brown fox jumped over the lazy dog\"\n",
    "pal=[]\n",
    "for i in text:\n",
    "    if i.isalpha():                            \n",
    "        pal.append(i)\n",
    "        \n",
    "if len(set(pal))==26:\n",
    "    print(\"Pangram\")\n",
    "else:\n",
    "    print(\"Not Pangram\")"
   ]
  },
  {
   "cell_type": "code",
   "execution_count": 3,
   "metadata": {},
   "outputs": [
    {
     "name": "stdout",
     "output_type": "stream",
     "text": [
      "lyz\n"
     ]
    }
   ],
   "source": [
    "#Code for getting the missing character to make a pangram.\n",
    "def missingchar(text):\n",
    "    misschar=\"\"\n",
    "    present=[False for i in range(26)]\n",
    "    for i in text.lower():\n",
    "        if i.isalpha():\n",
    "            present[ord(i)- ord('a')]=True\n",
    "    for i in range(len(present)):\n",
    "        if present[i]==False:\n",
    "            misschar+= chr(i+ord('a'))\n",
    "    return misschar\n",
    "b=missingchar(\"A quick brown fox jumps over the dog\")\n",
    "print(b)"
   ]
  },
  {
   "cell_type": "code",
   "execution_count": 29,
   "metadata": {},
   "outputs": [
    {
     "name": "stdout",
     "output_type": "stream",
     "text": [
      "Welcome to GeeksforGeeks\n"
     ]
    }
   ],
   "source": [
    "#code to replace punctuations from a string.\n",
    "def punct(string):\n",
    "    for x in string:\n",
    "        if not x.isalnum() and not x.isspace() :\n",
    "            string= string.replace(x, \"\")\n",
    "    return string\n",
    "string = \"Welcome???@@##$ to#$% Geeks%$^for$%^&Geeks\"\n",
    "r=punct(string)\n",
    "print(r)"
   ]
  },
  {
   "cell_type": "code",
   "execution_count": 44,
   "metadata": {},
   "outputs": [
    {
     "name": "stdout",
     "output_type": "stream",
     "text": [
      "False\n",
      "False\n"
     ]
    }
   ],
   "source": [
    "#Code to check if input is integer/string.\n",
    "def check(data):\n",
    "    if type(data)==int:\n",
    "        return True\n",
    "    else:\n",
    "        return False\n",
    "    \n",
    "def check2(data):\n",
    "    status=True\n",
    "    for x in data:\n",
    "        if x.isdigit()!=True:\n",
    "            status=False\n",
    "            break\n",
    "    return status\n",
    "print(check2('32s4'))\n",
    "print(check('32s4'))"
   ]
  },
  {
   "cell_type": "code",
   "execution_count": 3,
   "metadata": {},
   "outputs": [
    {
     "name": "stdout",
     "output_type": "stream",
     "text": [
      "S K S \n"
     ]
    }
   ],
   "source": [
    "#Code for finding initials of a name.\n",
    "def punct(string):\n",
    "    text=string.title()\n",
    "    for x in text:\n",
    "        if not x.isupper() and not x.isspace():\n",
    "            text= text.replace(x, \"\")\n",
    "    return text\n",
    "print(punct(\"shashi kumar sharma \"))"
   ]
  },
  {
   "cell_type": "code",
   "execution_count": 21,
   "metadata": {},
   "outputs": [
    {
     "name": "stdout",
     "output_type": "stream",
     "text": [
      "0\n",
      "True\n"
     ]
    }
   ],
   "source": [
    "#Code to check duck-number.\n",
    "def check_duck(string):\n",
    "    i=0\n",
    "    while(i<len(string) and string[i]=='0'):\n",
    "        i+=1\n",
    "    while(i<len(string)):\n",
    "        if string[i]=='0':\n",
    "            print(string[i])\n",
    "            return True\n",
    "            break\n",
    "        i+=1\n",
    "    return False\n",
    "\n",
    "print(check_duck('1101'))"
   ]
  },
  {
   "cell_type": "code",
   "execution_count": 24,
   "metadata": {},
   "outputs": [
    {
     "name": "stdout",
     "output_type": "stream",
     "text": [
      "10\n"
     ]
    }
   ],
   "source": [
    "#code to round a given number to nearest integer\n",
    "\n",
    "def round(value):\n",
    "    a=(value//10)*10\n",
    "    b=a+10\n",
    "    return (b if value-a>b-value else a)\n",
    "print(round(15))"
   ]
  },
  {
   "cell_type": "code",
   "execution_count": 40,
   "metadata": {},
   "outputs": [
    {
     "name": "stdout",
     "output_type": "stream",
     "text": [
      "geek\n",
      "code\n"
     ]
    }
   ],
   "source": [
    "#Code to change string into given character set.\n",
    "\n",
    "def change_text(text):\n",
    "    string=[]\n",
    "    char_set=\"qwertyuiopasdfghjklzxcvbnm\"\n",
    "    for x in text:\n",
    "        t=chr(char_set.index(x) + 97)\n",
    "        string.append(t)\n",
    "        \n",
    "    return \"\".join(string)\n",
    "print(change_text('utta'))\n",
    "\n",
    "print(change_text('egrt'))"
   ]
  },
  {
   "cell_type": "code",
   "execution_count": 35,
   "metadata": {},
   "outputs": [
    {
     "name": "stdout",
     "output_type": "stream",
     "text": [
      "['john', 'johnny']\n"
     ]
    }
   ],
   "source": [
    "#code to find the winner of an election.\n",
    "text=[\"john\", \"johnny\", \"jackie\", \n",
    "                    \"johnny\", \"john\", \"jackie\", \n",
    "                    \"jamie\", \"jamie\", \"john\",\n",
    "                    \"johnny\", \"jamie\", \"johnny\", \n",
    "                    \"john\"]\n",
    "def winner(text):\n",
    "    candidates=(set(text))\n",
    "    name_list={}\n",
    "    winner=[]\n",
    "    for x in candidates:\n",
    "        name_list[x]=text.count(x)\n",
    "    for x in candidates:\n",
    "        if name_list[x]==max(name_list.values()):\n",
    "            winner.append(x)\n",
    "    return winner\n",
    "print(winner(text))       "
   ]
  },
  {
   "cell_type": "code",
   "execution_count": 47,
   "metadata": {},
   "outputs": [
    {
     "name": "stdout",
     "output_type": "stream",
     "text": [
      "4\n"
     ]
    }
   ],
   "source": [
    "#Code to find Maximum length of consecutive 1’s in a binary string\n",
    "input = '11000111101010111'\n",
    "print (max(map(len,input.split('0')))) # map function returns an iterator(just like range())"
   ]
  },
  {
   "cell_type": "code",
   "execution_count": 52,
   "metadata": {},
   "outputs": [
    {
     "name": "stdout",
     "output_type": "stream",
     "text": [
      "['a', 's']\n"
     ]
    }
   ],
   "source": [
    "#Code to find the maximum occuring character in a string.\n",
    "def occur(text):\n",
    "    count=max(map(text.count,text))\n",
    "    char_list=[]\n",
    "    for x in text:\n",
    "        if text.count(x)==count:\n",
    "            char_list.append(x)\n",
    "    return list(set(char_list))\n",
    "print(occur('shashi sharma shashi sharma is an Engineer!!!!'))"
   ]
  },
  {
   "cell_type": "code",
   "execution_count": 46,
   "metadata": {},
   "outputs": [
    {
     "name": "stdout",
     "output_type": "stream",
     "text": [
      "['shashi', 'sharma']\n"
     ]
    }
   ],
   "source": [
    "#Code to find the maximum occuring word in a string.\n",
    "def word_max(text):\n",
    "    x=text.split()\n",
    "    c=max(map(x.count,x))\n",
    "    word_list=[]\n",
    "    for x in text.split():\n",
    "        if text.split().count(x)==c:\n",
    "            word_list.append(x)\n",
    "    return list(set(word_list))\n",
    "print(word_max('shashi sharma shashi sharma is an Engineer!!!'))"
   ]
  },
  {
   "cell_type": "code",
   "execution_count": 7,
   "metadata": {},
   "outputs": [
    {
     "name": "stdout",
     "output_type": "stream",
     "text": [
      "is sharma Shashi an engineer! shashi\n"
     ]
    }
   ],
   "source": [
    "#Code to remove duplicates from a string.\n",
    "def remove_dup(text):\n",
    "    return \" \".join(set(text.split()))\n",
    "print(remove_dup(\"Shashi sharma is shashi sharma is an engineer!\"))"
   ]
  },
  {
   "cell_type": "code",
   "execution_count": 9,
   "metadata": {},
   "outputs": [
    {
     "data": {
      "text/plain": [
       "{'an', 'engineer!', 'is', 'sharma', 'shashi'}"
      ]
     },
     "execution_count": 9,
     "metadata": {},
     "output_type": "execute_result"
    }
   ],
   "source": [
    "set(\"Shashi sharma is shashi sharma is an engineer!\".lower().split())0200000000"
   ]
  },
  {
   "cell_type": "code",
   "execution_count": null,
   "metadata": {},
   "outputs": [],
   "source": []
  }
 ],
 "metadata": {
  "kernelspec": {
   "display_name": "Python 3",
   "language": "python",
   "name": "python3"
  },
  "language_info": {
   "codemirror_mode": {
    "name": "ipython",
    "version": 3
   },
   "file_extension": ".py",
   "mimetype": "text/x-python",
   "name": "python",
   "nbconvert_exporter": "python",
   "pygments_lexer": "ipython3",
   "version": "3.7.3"
  }
 },
 "nbformat": 4,
 "nbformat_minor": 2
}
